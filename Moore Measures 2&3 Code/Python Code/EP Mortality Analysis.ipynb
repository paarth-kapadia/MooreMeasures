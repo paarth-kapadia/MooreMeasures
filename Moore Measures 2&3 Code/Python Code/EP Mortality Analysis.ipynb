{
 "cells": [
  {
   "cell_type": "markdown",
   "metadata": {},
   "source": [
    "## Imports"
   ]
  },
  {
   "cell_type": "code",
   "execution_count": null,
   "metadata": {},
   "outputs": [],
   "source": [
    "import numpy as np\n",
    "import pandas as pd\n",
    "\n",
    "from lifelines import KaplanMeierFitter\n",
    "from lifelines import CoxPHFitter\n",
    "from lifelines.statistics import logrank_test\n",
    "\n",
    "import matplotlib.pyplot as plt\n",
    "\n",
    "import seaborn as sns"
   ]
  },
  {
   "cell_type": "code",
   "execution_count": null,
   "metadata": {},
   "outputs": [],
   "source": [
    "pd.set_option('display.max_columns', None)\n",
    "pd.set_option('display.max_rows', None)\n",
    "\n",
    "%matplotlib inline\n",
    "plt.rcParams['figure.figsize'] = [10, 5]\n",
    "plt.rc('xtick', labelsize=10) \n",
    "plt.rc('ytick', labelsize=10)"
   ]
  },
  {
   "cell_type": "markdown",
   "metadata": {},
   "source": [
    "## Input"
   ]
  },
  {
   "cell_type": "code",
   "execution_count": null,
   "metadata": {},
   "outputs": [],
   "source": [
    "kmf_gen = KaplanMeierFitter()\n",
    "kmf_ep = KaplanMeierFitter() \n",
    "kmf_nep = KaplanMeierFitter() "
   ]
  },
  {
   "cell_type": "code",
   "execution_count": null,
   "metadata": {},
   "outputs": [],
   "source": [
    "data = pd.read_csv('ma_crc.csv')"
   ]
  },
  {
   "cell_type": "code",
   "execution_count": null,
   "metadata": {},
   "outputs": [],
   "source": [
    "data.columns"
   ]
  },
  {
   "cell_type": "code",
   "execution_count": null,
   "metadata": {},
   "outputs": [],
   "source": [
    "data = data.drop(['Time90'], axis=1)\n",
    "data = data.drop(['Time180'], axis=1)\n",
    "data = data.drop(['DeathStatus90'], axis=1)\n",
    "data = data.drop(['DeathStatus180'], axis=1)"
   ]
  },
  {
   "cell_type": "code",
   "execution_count": null,
   "metadata": {},
   "outputs": [],
   "source": [
    "data = data.rename(columns={'Time365' : 'Time', 'DeathStatus365' : 'DeathStatus'})"
   ]
  },
  {
   "cell_type": "markdown",
   "metadata": {},
   "source": [
    "## EDA"
   ]
  },
  {
   "cell_type": "markdown",
   "metadata": {},
   "source": [
    "## Data Prep"
   ]
  },
  {
   "cell_type": "code",
   "execution_count": null,
   "metadata": {},
   "outputs": [],
   "source": [
    "ep = data.query(\"EmergencyStatus == 1\")\n",
    "nep = data.query(\"EmergencyStatus == 0\")"
   ]
  },
  {
   "cell_type": "code",
   "execution_count": null,
   "metadata": {},
   "outputs": [],
   "source": [
    "kmf.fit(durations = data[\"Time\"], event_observed = data[\"DeathStatus\"])"
   ]
  },
  {
   "cell_type": "code",
   "execution_count": null,
   "metadata": {},
   "outputs": [],
   "source": [
    "kmf.plot()\n",
    "plt.title(\"Cancer Mortality\", fontsize=20)\n",
    "plt.xlabel (\"Days\", fontsize=12)\n",
    "plt.ylabel (\"Survival\", fontsize=12)\n",
    "plt.figure(figsize=(8, 4), dpi=80)\n",
    "plt.show()"
   ]
  },
  {
   "cell_type": "markdown",
   "metadata": {},
   "source": [
    "## Analysis"
   ]
  },
  {
   "cell_type": "code",
   "execution_count": null,
   "metadata": {},
   "outputs": [],
   "source": [
    "kmf_ep.fit(durations = ep['Time'], event_observed = ep['DeathStatus'], label = 'Emergency Presentation') \n",
    "kmf_nep.fit(durations = nep['Time'], event_observed = nep['DeathStatus'], label = 'Routine Presentation')"
   ]
  },
  {
   "cell_type": "code",
   "execution_count": null,
   "metadata": {},
   "outputs": [],
   "source": [
    "fig, ax = plt.subplots(figsize=(10,5))\n",
    "\n",
    "kmf_ep.plot(color='r')\n",
    "kmf_nep.plot(color='b')\n",
    "\n",
    "plt.title(\"1-Year Mortality of Lung Cancer by Route of Presentation\", fontsize=20)\n",
    "plt.xlabel (\"Days from diagnosis\", fontsize=12)\n",
    "plt.ylabel (\"Survival\", fontsize=12)\n",
    "\n",
    "plt.xlim([0,365])\n",
    "plt.show()"
   ]
  },
  {
   "cell_type": "code",
   "execution_count": null,
   "metadata": {},
   "outputs": [],
   "source": [
    "data = pd.read_csv('ma_crc.csv')\n",
    "data = data.drop(['Time180'], axis=1)\n",
    "data = data.drop(['Time90'], axis=1)\n",
    "data = data.drop(['DeathStatus180'], axis=1)\n",
    "data = data.drop(['DeathStatus90'], axis=1)\n",
    "data = data.rename(columns={'Time365' : 'Time', 'DeathStatus365' : 'DeathStatus'})"
   ]
  },
  {
   "cell_type": "code",
   "execution_count": null,
   "metadata": {},
   "outputs": [],
   "source": [
    "# Log-Rank Test\n",
    "\n",
    "# Define variables :\n",
    "T=ep['Time']\n",
    "E=ep['DeathStatus']\n",
    "T1=nep['Time']\n",
    "E1=nep['DeathStatus']\n",
    "\n",
    "\n",
    "\n",
    "results=logrank_test(T,T1,event_observed_A=E, event_observed_B=E1)\n",
    "results.print_summary()"
   ]
  },
  {
   "cell_type": "code",
   "execution_count": null,
   "metadata": {
    "scrolled": true
   },
   "outputs": [],
   "source": [
    "cph = CoxPHFitter()\n",
    "cph.fit(data, duration_col='Time', event_col='DeathStatus')"
   ]
  },
  {
   "cell_type": "code",
   "execution_count": null,
   "metadata": {
    "scrolled": true
   },
   "outputs": [],
   "source": [
    "cph.plot()"
   ]
  },
  {
   "cell_type": "code",
   "execution_count": null,
   "metadata": {},
   "outputs": [],
   "source": [
    "mm2_crc = pd.read_csv('MM2 CRC.csv', engine='python')"
   ]
  },
  {
   "cell_type": "code",
   "execution_count": null,
   "metadata": {},
   "outputs": [],
   "source": [
    "mm2_lc = pd.read_csv('MM2 LC.csv', engine='python')"
   ]
  },
  {
   "cell_type": "code",
   "execution_count": null,
   "metadata": {},
   "outputs": [],
   "source": [
    "mm3_crc = pd.read_csv('MM3 CRC.csv', engine='python')"
   ]
  },
  {
   "cell_type": "code",
   "execution_count": null,
   "metadata": {},
   "outputs": [],
   "source": [
    "mm3_lc = pd.read_csv('MM3 LC.csv', engine='python')"
   ]
  },
  {
   "cell_type": "markdown",
   "metadata": {},
   "source": [
    "#### MM2 CRC"
   ]
  },
  {
   "cell_type": "code",
   "execution_count": null,
   "metadata": {},
   "outputs": [],
   "source": [
    "a = mm2_crc[['StudyID', 'UnplanVal', 'DxVal', 'TypeOfEP', 'DxMOD','DxDelayRFFUReq','DxDelayRFFUComp']]"
   ]
  },
  {
   "cell_type": "code",
   "execution_count": null,
   "metadata": {},
   "outputs": [],
   "source": [
    "a = a[(a['UnplanVal'] == 'Yes') & (a['DxVal'] == 'Yes')]"
   ]
  },
  {
   "cell_type": "code",
   "execution_count": null,
   "metadata": {},
   "outputs": [],
   "source": [
    "a[['StudyID', 'TypeOfEP']].groupby('TypeOfEP').count()"
   ]
  },
  {
   "cell_type": "code",
   "execution_count": null,
   "metadata": {},
   "outputs": [],
   "source": [
    "a[['StudyID', 'DxMOD']].groupby('DxMOD').count()"
   ]
  },
  {
   "cell_type": "code",
   "execution_count": null,
   "metadata": {},
   "outputs": [],
   "source": [
    "b = a[a['DxMOD'] == 'Yes']"
   ]
  },
  {
   "cell_type": "code",
   "execution_count": null,
   "metadata": {},
   "outputs": [],
   "source": [
    "b[['StudyID','DxDelayRFFUReq']].groupby('DxDelayRFFUReq').count()"
   ]
  },
  {
   "cell_type": "code",
   "execution_count": null,
   "metadata": {},
   "outputs": [],
   "source": [
    "b[['StudyID','DxDelayRFFUComp']].groupby('DxDelayRFFUComp').count()"
   ]
  },
  {
   "cell_type": "markdown",
   "metadata": {},
   "source": [
    "#### MM2 LC"
   ]
  },
  {
   "cell_type": "code",
   "execution_count": null,
   "metadata": {},
   "outputs": [],
   "source": [
    "a = mm2_lc[['StudyID', 'UnplanVal', 'DxVal', 'TypeOfEP', 'DxMOD','DxDelayRFFUReq','DxDelayRFFUComp']]"
   ]
  },
  {
   "cell_type": "code",
   "execution_count": null,
   "metadata": {},
   "outputs": [],
   "source": [
    "a = a[(a['UnplanVal'] == 'Yes') & (a['DxVal'] == 'Yes')]"
   ]
  },
  {
   "cell_type": "code",
   "execution_count": null,
   "metadata": {},
   "outputs": [],
   "source": [
    "a[['StudyID', 'TypeOfEP']].groupby('TypeOfEP').count()"
   ]
  },
  {
   "cell_type": "code",
   "execution_count": null,
   "metadata": {},
   "outputs": [],
   "source": [
    "a[['StudyID', 'DxMOD']].groupby('DxMOD').count()"
   ]
  },
  {
   "cell_type": "code",
   "execution_count": null,
   "metadata": {},
   "outputs": [],
   "source": [
    "b = a[a['DxMOD'] == 'Yes']"
   ]
  },
  {
   "cell_type": "code",
   "execution_count": null,
   "metadata": {},
   "outputs": [],
   "source": [
    "b[['StudyID','DxDelayRFFUReq']].groupby('DxDelayRFFUReq').count()"
   ]
  },
  {
   "cell_type": "code",
   "execution_count": null,
   "metadata": {},
   "outputs": [],
   "source": [
    "b[['StudyID','DxDelayRFFUComp']].groupby('DxDelayRFFUComp').count()"
   ]
  },
  {
   "cell_type": "code",
   "execution_count": null,
   "metadata": {
    "scrolled": true
   },
   "outputs": [],
   "source": [
    "b"
   ]
  },
  {
   "cell_type": "code",
   "execution_count": null,
   "metadata": {},
   "outputs": [],
   "source": []
  },
  {
   "cell_type": "code",
   "execution_count": null,
   "metadata": {},
   "outputs": [],
   "source": []
  },
  {
   "cell_type": "code",
   "execution_count": null,
   "metadata": {},
   "outputs": [],
   "source": [
    "kmf_w = KaplanMeierFitter() \n",
    "kmf_b = KaplanMeierFitter() "
   ]
  },
  {
   "cell_type": "code",
   "execution_count": null,
   "metadata": {},
   "outputs": [],
   "source": [
    "w = data.query(\"PatientRace == 1\")\n",
    "b = data.query(\"PatientRace == 2\")"
   ]
  },
  {
   "cell_type": "code",
   "execution_count": null,
   "metadata": {},
   "outputs": [],
   "source": [
    "kmf_w.fit(durations = w['Time'], event_observed = w['DeathStatus'], label = 'White') \n",
    "kmf_b.fit(durations = b['Time'], event_observed = b['DeathStatus'], label = 'Black')"
   ]
  },
  {
   "cell_type": "code",
   "execution_count": null,
   "metadata": {},
   "outputs": [],
   "source": [
    "fig, ax = plt.subplots(figsize=(10,5))\n",
    "\n",
    "kmf_w.plot(color='r')\n",
    "kmf_b.plot(color='b')\n",
    "\n",
    "plt.title(\"1-Year Mortality of Lung Cancer by Route of Presentation\", fontsize=20)\n",
    "plt.xlabel (\"Days from diagnosis\", fontsize=12)\n",
    "plt.ylabel (\"Survival\", fontsize=12)\n",
    "\n",
    "plt.xlim([0,365])\n",
    "plt.show()"
   ]
  },
  {
   "cell_type": "code",
   "execution_count": null,
   "metadata": {},
   "outputs": [],
   "source": []
  },
  {
   "cell_type": "code",
   "execution_count": null,
   "metadata": {},
   "outputs": [],
   "source": [
    "data[(data['EmergencyStatus']==1) & (data['PatientRace']==1)].shape[0]"
   ]
  },
  {
   "cell_type": "code",
   "execution_count": null,
   "metadata": {},
   "outputs": [],
   "source": [
    "data[(data['PatientRace']==1)].shape[0]"
   ]
  },
  {
   "cell_type": "code",
   "execution_count": null,
   "metadata": {},
   "outputs": [],
   "source": [
    "data[(data['EmergencyStatus']==1) & (data['PatientRace']==2)].shape[0]"
   ]
  },
  {
   "cell_type": "code",
   "execution_count": null,
   "metadata": {},
   "outputs": [],
   "source": [
    "data[(data['PatientRace']==2)].shape[0]"
   ]
  }
 ],
 "metadata": {
  "kernelspec": {
   "display_name": "spademl_01_02",
   "language": "python",
   "name": "spademl_01_02"
  },
  "language_info": {
   "codemirror_mode": {
    "name": "ipython",
    "version": 3
   },
   "file_extension": ".py",
   "mimetype": "text/x-python",
   "name": "python",
   "nbconvert_exporter": "python",
   "pygments_lexer": "ipython3",
   "version": "3.7.9"
  }
 },
 "nbformat": 4,
 "nbformat_minor": 5
}
