{
 "cells": [
  {
   "cell_type": "markdown",
   "metadata": {},
   "source": [
    "## Imports"
   ]
  },
  {
   "cell_type": "code",
   "execution_count": 1,
   "metadata": {},
   "outputs": [],
   "source": [
    "import math\n",
    "import numpy as np\n",
    "import pandas as pd\n",
    "\n",
    "from lifelines import KaplanMeierFitter\n",
    "from lifelines import CoxPHFitter\n",
    "from lifelines.statistics import logrank_test\n",
    "\n",
    "from datetime import datetime, timedelta\n",
    "import re\n",
    "\n",
    "import matplotlib.pyplot as plt\n",
    "import seaborn as sns"
   ]
  },
  {
   "cell_type": "code",
   "execution_count": 2,
   "metadata": {},
   "outputs": [],
   "source": [
    "pd.set_option('display.max_columns', 50)\n",
    "pd.set_option('display.max_rows', 100)\n",
    "\n",
    "%matplotlib inline\n",
    "plt.rcParams['figure.figsize'] = [10, 5]\n",
    "plt.rc('xtick', labelsize=10) \n",
    "plt.rc('ytick', labelsize=10)"
   ]
  },
  {
   "cell_type": "markdown",
   "metadata": {},
   "source": [
    "## Input"
   ]
  },
  {
   "cell_type": "markdown",
   "metadata": {},
   "source": [
    "### MM2"
   ]
  },
  {
   "cell_type": "code",
   "execution_count": 3,
   "metadata": {},
   "outputs": [],
   "source": [
    "mm2_crc_df = pd.read_csv('Data/mm2_crc_merged.csv', engine='python')\n",
    "mm2_crc_df['StudyID'] = mm2_crc_df['ï»¿StudyID']\n",
    "mm2_crc_df = mm2_crc_df.drop('ï»¿StudyID', axis=1)"
   ]
  },
  {
   "cell_type": "code",
   "execution_count": 4,
   "metadata": {},
   "outputs": [],
   "source": [
    "mm2_lca_df = pd.read_csv('Data/mm2_lca_merged.csv', engine='python')\n",
    "mm2_lca_df['StudyID'] = mm2_lca_df['ï»¿StudyID']\n",
    "mm2_lca_df = mm2_lca_df.drop('ï»¿StudyID', axis=1)"
   ]
  },
  {
   "cell_type": "markdown",
   "metadata": {},
   "source": [
    "### MM3"
   ]
  },
  {
   "cell_type": "code",
   "execution_count": 5,
   "metadata": {},
   "outputs": [],
   "source": [
    "mm3_crc_df = pd.read_csv('Data/mm3_crc_merged.csv', engine='python')\n",
    "mm3_crc_df['StudyID'] = mm3_crc_df['ï»¿StudyID']\n",
    "mm3_crc_df = mm3_crc_df.drop('ï»¿StudyID', axis=1)"
   ]
  },
  {
   "cell_type": "code",
   "execution_count": 6,
   "metadata": {},
   "outputs": [],
   "source": [
    "mm3_lca_df = pd.read_csv('Data/mm3_lca_merged.csv', engine='python')\n",
    "mm3_lca_df['StudyID'] = mm3_lca_df['ï»¿StudyID']\n",
    "mm3_lca_df = mm3_lca_df.drop('ï»¿StudyID', axis=1)"
   ]
  },
  {
   "cell_type": "markdown",
   "metadata": {},
   "source": [
    "## Data Prep"
   ]
  },
  {
   "cell_type": "markdown",
   "metadata": {},
   "source": [
    "### MM2"
   ]
  },
  {
   "cell_type": "code",
   "execution_count": 7,
   "metadata": {
    "scrolled": true
   },
   "outputs": [],
   "source": [
    "# true EPs are ones where reviewer says it is unplanned, is really first time cancer dx, and there is a cancer signal\n",
    "def is_true_EP (row):\n",
    "    if (row['UnplanVal'] == 'Yes' and row['DxVal'] == 'Yes' and not pd.isnull(row['RelSig'])):\n",
    "        return 1\n",
    "    else:\n",
    "        return 0"
   ]
  },
  {
   "cell_type": "code",
   "execution_count": 8,
   "metadata": {},
   "outputs": [],
   "source": [
    "def response_num_to_text (row):\n",
    "    if (row['RelRespNumerical'] == 1):\n",
    "        return 'No signal requiring f/u'\n",
    "    elif (row['RelRespNumerical'] == 2):\n",
    "        return 'Signal not recognized'\n",
    "    elif (row['RelRespNumerical'] == 3):\n",
    "        return 'Signal recognized, f/u not initiated'\n",
    "    elif (row['RelRespNumerical'] == 4):\n",
    "        return 'Signal recognized, OP f/u'\n",
    "    elif (row['RelRespNumerical'] == 5):\n",
    "        return 'Signal recognized, IP f/u'\n",
    "    elif (row['RelRespNumerical'] == 6):\n",
    "        return 'Other'\n",
    "    #else:\n",
    "        #return 'ERROR'"
   ]
  },
  {
   "cell_type": "code",
   "execution_count": 9,
   "metadata": {},
   "outputs": [],
   "source": [
    "def typeep_num_to_text (row):\n",
    "    if (row['TypeOfEP'] == 1):\n",
    "        return 'Dx within emergency event'\n",
    "    elif (row['TypeOfEP'] == 2):\n",
    "        return 'Cancer-related emergency -> Related subsequent encounter'\n",
    "    elif (row['TypeOfEP'] == 3):\n",
    "        return 'Non-cancer-related emergency -> Related subsequent encounter'\n",
    "    elif (row['TypeOfEP'] == 4):\n",
    "        return 'Non-cancer-related emergency -> Unrelated subsequent encounter'\n",
    "    elif (row['TypeOfEP'] == 5):\n",
    "        return 'Other'\n",
    "    #else:\n",
    "        #return 'ERROR'"
   ]
  },
  {
   "cell_type": "code",
   "execution_count": 10,
   "metadata": {},
   "outputs": [],
   "source": [
    "def parse_datetime1 (row, col):\n",
    "    try:\n",
    "        return datetime.strptime(row[col], '%m/%d/%Y')\n",
    "    except:\n",
    "        return None"
   ]
  },
  {
   "cell_type": "code",
   "execution_count": 11,
   "metadata": {},
   "outputs": [],
   "source": [
    "def parse_datetime2 (row, col):\n",
    "    try:\n",
    "        return datetime.strptime(str(row[col]), '%Y-%m-%d')\n",
    "    except:\n",
    "        return None"
   ]
  },
  {
   "cell_type": "code",
   "execution_count": 12,
   "metadata": {},
   "outputs": [],
   "source": [
    "def is_timedelta_within_threshold (row, col_later, col_earlier, threshold):\n",
    "    try:\n",
    "        delta = (row[col_later] - row[col_earlier]).days\n",
    "        if delta <= threshold:\n",
    "            return 1\n",
    "        else:\n",
    "            return 0\n",
    "    except:\n",
    "        return -1"
   ]
  },
  {
   "cell_type": "code",
   "execution_count": 13,
   "metadata": {},
   "outputs": [],
   "source": [
    "def parse_yesno_1 (row, col):\n",
    "    if (row[col] == 'Yes'):\n",
    "        return 1\n",
    "    else:\n",
    "        return 0"
   ]
  },
  {
   "cell_type": "code",
   "execution_count": 14,
   "metadata": {},
   "outputs": [],
   "source": [
    "def parse_01_1 (row, col):\n",
    "    if (row[col] == 1):\n",
    "        return 1\n",
    "    else:\n",
    "        return 0"
   ]
  },
  {
   "cell_type": "code",
   "execution_count": 15,
   "metadata": {},
   "outputs": [],
   "source": [
    "def check_not_null (row, col):\n",
    "    if not pd.isnull(row[col]):\n",
    "        return 1\n",
    "    else:\n",
    "        return 0"
   ]
  },
  {
   "cell_type": "code",
   "execution_count": 16,
   "metadata": {},
   "outputs": [],
   "source": [
    "# make columns for each individual signal for CRC\n",
    "def get_crc_sig_01 (row):\n",
    "    if ';' in str(row['RelSig']):\n",
    "        for x in str(row['RelSig']).split(';'):\n",
    "            if ('1' in str(x) and not '10' in str(x) and not '11' in str(x) and not '12' in str(x) and not '13' in str(x) and not '14' in str(x)):\n",
    "                return 1\n",
    "        return 0\n",
    "    else:\n",
    "        if ('1' in str(row['RelSig']) and not '10' in str(row['RelSig']) and not '11' in str(row['RelSig']) and not '12' in str(row['RelSig']) and not '13' in str(row['RelSig']) and not '14' in str(row['RelSig'])):\n",
    "            return 1\n",
    "        else:\n",
    "            return 0\n",
    "    \n",
    "def get_crc_sig_02 (row):\n",
    "    if ';' in str(row['RelSig']):\n",
    "        for x in str(row['RelSig']).split(';'):\n",
    "            if ('2' in str(x) and not '12' in str(x)):\n",
    "                return 1\n",
    "        return 0\n",
    "    else:\n",
    "        if ('2' in str(row['RelSig']) and not '12' in str(row['RelSig'])):\n",
    "            return 1\n",
    "        else:\n",
    "            return 0\n",
    "    \n",
    "def get_crc_sig_03 (row):\n",
    "    if ';' in str(row['RelSig']):\n",
    "        for x in str(row['RelSig']).split(';'):\n",
    "            if ('3' in str(x) and not '13' in str(x)):\n",
    "                return 1\n",
    "        return 0\n",
    "    else:\n",
    "        if ('3' in str(row['RelSig']) and not '13' in str(row['RelSig'])):\n",
    "            return 1\n",
    "        else:\n",
    "            return 0\n",
    "    \n",
    "def get_crc_sig_04 (row):\n",
    "    if ';' in str(row['RelSig']):\n",
    "        for x in str(row['RelSig']).split(';'):\n",
    "            if ('4' in str(x) and not '14' in str(x)):\n",
    "                return 1\n",
    "        return 0\n",
    "    else:\n",
    "        if ('4' in str(row['RelSig']) and not '14' in str(row['RelSig'])):\n",
    "            return 1\n",
    "        else:\n",
    "            return 0\n",
    "    \n",
    "def get_crc_sig_05 (row):\n",
    "    if ('5' in str(row['RelSig'])):\n",
    "        return 1\n",
    "    else:\n",
    "        return 0\n",
    "    \n",
    "def get_crc_sig_06 (row):\n",
    "    if ('6' in str(row['RelSig'])):\n",
    "        return 1\n",
    "    else:\n",
    "        return 0\n",
    "    \n",
    "def get_crc_sig_07 (row):\n",
    "    if ('7' in str(row['RelSig'])):\n",
    "        return 1\n",
    "    else:\n",
    "        return 0\n",
    "    \n",
    "def get_crc_sig_08 (row):\n",
    "    if ('8' in str(row['RelSig'])):\n",
    "        return 1\n",
    "    else:\n",
    "        return 0\n",
    "    \n",
    "def get_crc_sig_09 (row):\n",
    "    if ('9' in str(row['RelSig'])):\n",
    "        return 1\n",
    "    else:\n",
    "        return 0\n",
    "    \n",
    "def get_crc_sig_10 (row):\n",
    "    if ('10' in str(row['RelSig'])):\n",
    "        return 1\n",
    "    else:\n",
    "        return 0\n",
    "    \n",
    "def get_crc_sig_11 (row):\n",
    "    if ('11' in str(row['RelSig'])):\n",
    "        return 1\n",
    "    else:\n",
    "        return 0\n",
    "    \n",
    "def get_crc_sig_12 (row):\n",
    "    if ('12' in str(row['RelSig'])):\n",
    "        return 1\n",
    "    else:\n",
    "        return 0\n",
    "    \n",
    "def get_crc_sig_13 (row):\n",
    "    if ('13' in str(row['RelSig'])):\n",
    "        return 1\n",
    "    else:\n",
    "        return 0\n",
    "    \n",
    "def get_crc_sig_14 (row):\n",
    "    if ('14' in str(row['RelSig'])):\n",
    "        return 1\n",
    "    else:\n",
    "        return 0"
   ]
  },
  {
   "cell_type": "code",
   "execution_count": 17,
   "metadata": {},
   "outputs": [],
   "source": [
    "# make columns for each individual signal for LCa\n",
    "def get_lca_sig_01 (row):\n",
    "    if ';' in str(row['RelSig']):\n",
    "        for x in str(row['RelSig']).split(';'):\n",
    "            if ('1' in str(x) and not '10' in str(x) and not '11' in str(x) and not '12' in str(x) and not '13' in str(x) and not '14' in str(x)):\n",
    "                return 1\n",
    "        return 0\n",
    "    else:\n",
    "        if ('1' in str(row['RelSig']) and not '10' in str(row['RelSig']) and not '11' in str(row['RelSig']) and not '12' in str(row['RelSig']) and not '13' in str(row['RelSig']) and not '14' in str(row['RelSig'])):\n",
    "            return 1\n",
    "        else:\n",
    "            return 0\n",
    "    \n",
    "def get_lca_sig_02 (row):\n",
    "    if ('2' in str(row['RelSig'])):\n",
    "        return 1\n",
    "    else:\n",
    "        return 0\n",
    "    \n",
    "def get_lca_sig_03 (row):\n",
    "    if ('3' in str(row['RelSig'])):\n",
    "        return 1\n",
    "    else:\n",
    "        return 0\n",
    "    \n",
    "def get_lca_sig_04 (row):\n",
    "    if ('4' in str(row['RelSig'])):\n",
    "        return 1\n",
    "    else:\n",
    "        return 0\n",
    "    \n",
    "def get_lca_sig_05 (row):\n",
    "    if ('5' in str(row['RelSig'])):\n",
    "        return 1\n",
    "    else:\n",
    "        return 0\n",
    "    \n",
    "def get_lca_sig_06 (row):\n",
    "    if ('6' in str(row['RelSig'])):\n",
    "        return 1\n",
    "    else:\n",
    "        return 0\n",
    "    \n",
    "def get_lca_sig_07 (row):\n",
    "    if ('7' in str(row['RelSig'])):\n",
    "        return 1\n",
    "    else:\n",
    "        return 0\n",
    "    \n",
    "def get_lca_sig_08 (row):\n",
    "    if ('8' in str(row['RelSig'])):\n",
    "        return 1\n",
    "    else:\n",
    "        return 0\n",
    "    \n",
    "def get_lca_sig_09 (row):\n",
    "    if ('9' in str(row['RelSig'])):\n",
    "        return 1\n",
    "    else:\n",
    "        return 0\n",
    "    \n",
    "def get_lca_sig_10 (row):\n",
    "    if ('10' in str(row['RelSig'])):\n",
    "        return 1\n",
    "    else:\n",
    "        return 0"
   ]
  },
  {
   "cell_type": "code",
   "execution_count": 18,
   "metadata": {},
   "outputs": [],
   "source": [
    "mm2_crc_df['TrueEP'] = mm2_crc_df.apply(lambda row: is_true_EP(row), axis=1)\n",
    "mm2_lca_df['TrueEP'] = mm2_lca_df.apply(lambda row: is_true_EP(row), axis=1)"
   ]
  },
  {
   "cell_type": "code",
   "execution_count": 19,
   "metadata": {},
   "outputs": [],
   "source": [
    "mm2_crc_df['ResponseText'] = mm2_crc_df.apply(lambda row: response_num_to_text(row), axis=1)\n",
    "mm2_crc_df['ResponseText'] = pd.Categorical(mm2_crc_df['ResponseText'], categories=['No signal requiring f/u', 'Signal not recognized', 'Signal recognized, f/u not initiated', 'Signal recognized, OP f/u', 'Signal recognized, IP f/u', 'Other'], ordered=True)\n",
    "mm2_lca_df['ResponseText'] = mm2_lca_df.apply(lambda row: response_num_to_text(row), axis=1)\n",
    "mm2_lca_df['ResponseText'] = pd.Categorical(mm2_lca_df['ResponseText'], categories=['No signal requiring f/u', 'Signal not recognized', 'Signal recognized, f/u not initiated', 'Signal recognized, OP f/u', 'Signal recognized, IP f/u', 'Other'], ordered=True)"
   ]
  },
  {
   "cell_type": "code",
   "execution_count": 20,
   "metadata": {},
   "outputs": [],
   "source": [
    "mm2_crc_df['TypeEPText'] = mm2_crc_df.apply(lambda row: typeep_num_to_text(row), axis=1)\n",
    "mm2_crc_df['TypeEPText'] = pd.Categorical(mm2_crc_df['TypeEPText'], categories=['Dx within emergency event', 'Cancer-related emergency -> Related subsequent encounter', 'Non-cancer-related emergency -> Related subsequent encounter', 'Non-cancer-related emergency -> Unrelated subsequent encounter', 'Other'], ordered=True)\n",
    "mm2_lca_df['TypeEPText'] = mm2_lca_df.apply(lambda row: typeep_num_to_text(row), axis=1)\n",
    "mm2_lca_df['TypeEPText'] = pd.Categorical(mm2_lca_df['TypeEPText'], categories=['Dx within emergency event', 'Cancer-related emergency -> Related subsequent encounter', 'Non-cancer-related emergency -> Related subsequent encounter', 'Non-cancer-related emergency -> Unrelated subsequent encounter', 'Other'], ordered=True)"
   ]
  },
  {
   "cell_type": "code",
   "execution_count": 21,
   "metadata": {},
   "outputs": [],
   "source": [
    "mm2_crc_df['ScreeningTestDateTime'] = mm2_crc_df.apply(lambda row: parse_datetime1(row, 'DiagnosticTestDate'), axis=1)\n",
    "mm2_lca_df['ScreeningTestDateTime'] = mm2_lca_df.apply(lambda row: parse_datetime2(row, 'DiagnosticTestDate'), axis=1)\n",
    "mm2_crc_df['DiagnosisDateTime'] = mm2_crc_df.apply(lambda row: parse_datetime2(row, 'DiagnosticEventDateTime'), axis=1)\n",
    "mm2_lca_df['DiagnosisDateTime'] = mm2_lca_df.apply(lambda row: parse_datetime2(row, 'DiagnosticEventDateTime'), axis=1)\n",
    "\n",
    "mm2_crc_df['ScreeningUpToDate'] = mm2_crc_df.apply(lambda row: is_timedelta_within_threshold(row, 'DiagnosisDateTime', 'ScreeningTestDateTime', 3650), axis=1)\n",
    "mm2_lca_df['ScreeningUpToDate'] = mm2_lca_df.apply(lambda row: is_timedelta_within_threshold(row, 'DiagnosisDateTime', 'ScreeningTestDateTime', 3650), axis=1)"
   ]
  },
  {
   "cell_type": "code",
   "execution_count": 22,
   "metadata": {},
   "outputs": [],
   "source": [
    "mm2_crc_df['RFPriorToDx'] = mm2_crc_df.apply(lambda row: parse_yesno_1(row, 'RFYesNo'), axis=1)\n",
    "# lung cancer is already in 1 0 format\n",
    "mm2_lca_df['RFPriorToDx'] = mm2_lca_df.apply(lambda row: parse_01_1(row, 'RFYesNo'), axis=1)"
   ]
  },
  {
   "cell_type": "code",
   "execution_count": 23,
   "metadata": {},
   "outputs": [],
   "source": [
    "mm2_crc_df['HasMOD'] = mm2_crc_df.apply(lambda row: parse_yesno_1(row, 'DxMOD'), axis=1)\n",
    "# lung cancer is already in 1 0 format\n",
    "mm2_lca_df['HasMOD'] = mm2_lca_df.apply(lambda row: parse_01_1(row, 'DxMOD'), axis=1)"
   ]
  },
  {
   "cell_type": "code",
   "execution_count": 24,
   "metadata": {},
   "outputs": [],
   "source": [
    "mm2_crc_df['DimensionPtRelated_Parsed'] = mm2_crc_df.apply(lambda row: check_not_null(row, 'DimensionPtRelated'), axis=1)\n",
    "mm2_crc_df['DimensionPtProvEncounter_Parsed'] = mm2_crc_df.apply(lambda row: check_not_null(row, 'DimensionPtProvEncounter'), axis=1)\n",
    "mm2_crc_df['DimensionDxTests_Parsed'] = mm2_crc_df.apply(lambda row: check_not_null(row, 'DimensionDxTests'), axis=1)\n",
    "mm2_crc_df['DimensionFupTrack_Parsed'] = mm2_crc_df.apply(lambda row: check_not_null(row, 'DimensionFupTrack'), axis=1)\n",
    "mm2_crc_df['DimensionReferrals_Parsed'] = mm2_crc_df.apply(lambda row: check_not_null(row, 'DimensionReferrals'), axis=1)\n",
    "\n",
    "mm2_lca_df['DimensionPtRelated_Parsed'] = mm2_lca_df.apply(lambda row: check_not_null(row, 'DimensionPtRelated'), axis=1)\n",
    "mm2_lca_df['DimensionPtProvEncounter_Parsed'] = mm2_lca_df.apply(lambda row: check_not_null(row, 'DimensionPtProvEncounter'), axis=1)\n",
    "mm2_lca_df['DimensionDxTests_Parsed'] = mm2_lca_df.apply(lambda row: check_not_null(row, 'DimensionDxTests'), axis=1)\n",
    "mm2_lca_df['DimensionFupTrack_Parsed'] = mm2_lca_df.apply(lambda row: check_not_null(row, 'DimensionFupTrack'), axis=1)\n",
    "mm2_lca_df['DimensionReferrals_Parsed'] = mm2_lca_df.apply(lambda row: check_not_null(row, 'DimensionReferrals'), axis=1)"
   ]
  },
  {
   "cell_type": "code",
   "execution_count": 25,
   "metadata": {},
   "outputs": [],
   "source": [
    "mm2_crc_df['Signal_IDA'] = mm2_crc_df.apply(lambda row: get_crc_sig_01(row), axis=1)\n",
    "mm2_crc_df['Signal_Obstruction'] = mm2_crc_df.apply(lambda row: get_crc_sig_02(row), axis=1)\n",
    "mm2_crc_df['Signal_BloodyStool'] = mm2_crc_df.apply(lambda row: get_crc_sig_03(row), axis=1)\n",
    "mm2_crc_df['Signal_AbdMass'] = mm2_crc_df.apply(lambda row: get_crc_sig_04(row), axis=1)\n",
    "mm2_crc_df['Signal_RectMass'] = mm2_crc_df.apply(lambda row: get_crc_sig_05(row), axis=1)\n",
    "mm2_crc_df['Signal_StoolCaliber'] = mm2_crc_df.apply(lambda row: get_crc_sig_06(row), axis=1)\n",
    "mm2_crc_df['Signal_CScope'] = mm2_crc_df.apply(lambda row: get_crc_sig_07(row), axis=1)\n",
    "mm2_crc_df['Signal_FOBT'] = mm2_crc_df.apply(lambda row: get_crc_sig_08(row), axis=1)\n",
    "mm2_crc_df['Signal_FlexSig'] = mm2_crc_df.apply(lambda row: get_crc_sig_09(row), axis=1)\n",
    "mm2_crc_df['Signal_Enema'] = mm2_crc_df.apply(lambda row: get_crc_sig_10(row), axis=1)\n",
    "mm2_crc_df['Signal_CT'] = mm2_crc_df.apply(lambda row: get_crc_sig_11(row), axis=1)\n",
    "mm2_crc_df['Signal_FamHx'] = mm2_crc_df.apply(lambda row: get_crc_sig_12(row), axis=1)\n",
    "mm2_crc_df['Signal_MassExam'] = mm2_crc_df.apply(lambda row: get_crc_sig_13(row), axis=1)\n",
    "mm2_crc_df['Signal_Other'] = mm2_crc_df.apply(lambda row: get_crc_sig_14(row), axis=1)"
   ]
  },
  {
   "cell_type": "code",
   "execution_count": 26,
   "metadata": {},
   "outputs": [],
   "source": [
    "mm2_lca_df['Signal_Cough'] = mm2_lca_df.apply(lambda row: get_lca_sig_01(row), axis=1)\n",
    "mm2_lca_df['Signal_Dyspnea'] = mm2_lca_df.apply(lambda row: get_lca_sig_02(row), axis=1)\n",
    "mm2_lca_df['Signal_ChestPain'] = mm2_lca_df.apply(lambda row: get_lca_sig_03(row), axis=1)\n",
    "mm2_lca_df['Signal_Hemoptysis'] = mm2_lca_df.apply(lambda row: get_lca_sig_04(row), axis=1)\n",
    "mm2_lca_df['Signal_LRTI'] = mm2_lca_df.apply(lambda row: get_lca_sig_05(row), axis=1)\n",
    "mm2_lca_df['Signal_Imaging'] = mm2_lca_df.apply(lambda row: get_lca_sig_06(row), axis=1)\n",
    "mm2_lca_df['Signal_Paraneoplastic'] = mm2_lca_df.apply(lambda row: get_lca_sig_07(row), axis=1)\n",
    "mm2_lca_df['Signal_Hoarse'] = mm2_lca_df.apply(lambda row: get_lca_sig_08(row), axis=1)\n",
    "mm2_lca_df['Signal_WtLoss'] = mm2_lca_df.apply(lambda row: get_lca_sig_09(row), axis=1)\n",
    "mm2_lca_df['Signal_Other'] = mm2_lca_df.apply(lambda row: get_lca_sig_10(row), axis=1)"
   ]
  },
  {
   "cell_type": "code",
   "execution_count": 27,
   "metadata": {
    "scrolled": true
   },
   "outputs": [],
   "source": [
    "# mm2_crc_df[['RelSig', 'Signal_IDA', 'Signal_Obstruction', 'Signal_BloodyStool', 'Signal_AbdMass', 'Signal_RectMass', 'Signal_StoolCaliber', 'Signal_CScope', 'Signal_FOBT', 'Signal_FlexSig', 'Signal_Enema', 'Signal_CT', 'Signal_FamHx', 'Signal_MassExam', 'Signal_Other']]"
   ]
  },
  {
   "cell_type": "code",
   "execution_count": 28,
   "metadata": {},
   "outputs": [],
   "source": [
    "# mm2_lca_df[['RelSig', 'Signal_Cough', 'Signal_Dyspnea', 'Signal_ChestPain', 'Signal_Hemoptysis', 'Signal_LRTI', 'Signal_Imaging', 'Signal_Paraneoplastic', 'Signal_Hoarse', 'Signal_WtLoss', 'Signal_Other']]"
   ]
  },
  {
   "cell_type": "markdown",
   "metadata": {},
   "source": [
    "### MM3"
   ]
  },
  {
   "cell_type": "code",
   "execution_count": 29,
   "metadata": {},
   "outputs": [],
   "source": [
    "#pending"
   ]
  },
  {
   "cell_type": "markdown",
   "metadata": {},
   "source": [
    "## True EP Analysis"
   ]
  },
  {
   "cell_type": "markdown",
   "metadata": {},
   "source": [
    "### CRC"
   ]
  },
  {
   "cell_type": "code",
   "execution_count": 30,
   "metadata": {},
   "outputs": [],
   "source": [
    "mm2_crc_tep_stats = mm2_crc_df['TrueEP'].agg(['mean', 'std', 'count'])\n",
    "    \n",
    "mm2_crc_tep_stats['ci95_hi'] = (mm2_crc_tep_stats['mean'] + 1.96 * mm2_crc_tep_stats['std']/math.sqrt(mm2_crc_tep_stats['count'])) * 100\n",
    "mm2_crc_tep_stats['ci95_lo'] = (mm2_crc_tep_stats['mean'] - 1.96 * mm2_crc_tep_stats['std']/math.sqrt(mm2_crc_tep_stats['count'])) * 100\n",
    "mm2_crc_tep_stats['% True EP'] = mm2_crc_tep_stats['mean'] * 100"
   ]
  },
  {
   "cell_type": "code",
   "execution_count": 31,
   "metadata": {},
   "outputs": [
    {
     "data": {
      "text/plain": [
       "% True EP    73.000000\n",
       "ci95_hi      81.745442\n",
       "ci95_lo      64.254558\n",
       "Name: TrueEP, dtype: float64"
      ]
     },
     "execution_count": 31,
     "metadata": {},
     "output_type": "execute_result"
    }
   ],
   "source": [
    "mm2_crc_tep_stats[['% True EP', 'ci95_hi', 'ci95_lo']]"
   ]
  },
  {
   "cell_type": "markdown",
   "metadata": {},
   "source": [
    "### Lung Cancer"
   ]
  },
  {
   "cell_type": "code",
   "execution_count": 32,
   "metadata": {},
   "outputs": [],
   "source": [
    "mm2_lca_tep_stats = mm2_lca_df['TrueEP'].agg(['mean', 'std', 'count'])\n",
    "    \n",
    "mm2_lca_tep_stats['ci95_hi'] = (mm2_lca_tep_stats['mean'] + 1.96 * mm2_lca_tep_stats['std']/math.sqrt(mm2_lca_tep_stats['count'])) * 100\n",
    "mm2_lca_tep_stats['ci95_lo'] = (mm2_lca_tep_stats['mean'] - 1.96 * mm2_lca_tep_stats['std']/math.sqrt(mm2_lca_tep_stats['count'])) * 100\n",
    "mm2_lca_tep_stats['% True EP'] = mm2_lca_tep_stats['mean'] * 100"
   ]
  },
  {
   "cell_type": "code",
   "execution_count": 33,
   "metadata": {},
   "outputs": [
    {
     "data": {
      "text/plain": [
       "% True EP    80.000000\n",
       "ci95_hi      87.879496\n",
       "ci95_lo      72.120504\n",
       "Name: TrueEP, dtype: float64"
      ]
     },
     "execution_count": 33,
     "metadata": {},
     "output_type": "execute_result"
    }
   ],
   "source": [
    "mm2_lca_tep_stats[['% True EP', 'ci95_hi', 'ci95_lo']]"
   ]
  },
  {
   "cell_type": "markdown",
   "metadata": {},
   "source": [
    "## Signals"
   ]
  },
  {
   "cell_type": "markdown",
   "metadata": {},
   "source": [
    "### CRC"
   ]
  },
  {
   "cell_type": "code",
   "execution_count": 34,
   "metadata": {},
   "outputs": [],
   "source": [
    "crc_sigf_df = pd.DataFrame({'Signal':['IDA', 'Obstruction', 'BloodyStool', 'AbdMass', 'RectMass', 'StoolCaliber', 'CScope', 'FOBT', 'FlexSig', 'Enema', 'CT', 'FamHx', 'MassExam', 'Other']})\n",
    "crc_sigf_vals = [] \n",
    "\n",
    "crc_sigf_vals.append(mm2_crc_df[mm2_crc_df['TrueEP'] == 1]['Signal_IDA'].agg('mean') * 100)\n",
    "crc_sigf_vals.append(mm2_crc_df[mm2_crc_df['TrueEP'] == 1]['Signal_Obstruction'].agg('mean') * 100)\n",
    "crc_sigf_vals.append(mm2_crc_df[mm2_crc_df['TrueEP'] == 1]['Signal_BloodyStool'].agg('mean') * 100)\n",
    "crc_sigf_vals.append(mm2_crc_df[mm2_crc_df['TrueEP'] == 1]['Signal_AbdMass'].agg('mean') * 100)\n",
    "crc_sigf_vals.append(mm2_crc_df[mm2_crc_df['TrueEP'] == 1]['Signal_RectMass'].agg('mean') * 100)\n",
    "crc_sigf_vals.append(mm2_crc_df[mm2_crc_df['TrueEP'] == 1]['Signal_StoolCaliber'].agg('mean') * 100)\n",
    "crc_sigf_vals.append(mm2_crc_df[mm2_crc_df['TrueEP'] == 1]['Signal_CScope'].agg('mean') * 100)\n",
    "crc_sigf_vals.append(mm2_crc_df[mm2_crc_df['TrueEP'] == 1]['Signal_FOBT'].agg('mean') * 100)\n",
    "crc_sigf_vals.append(mm2_crc_df[mm2_crc_df['TrueEP'] == 1]['Signal_FlexSig'].agg('mean') * 100)\n",
    "crc_sigf_vals.append(mm2_crc_df[mm2_crc_df['TrueEP'] == 1]['Signal_Enema'].agg('mean') * 100)\n",
    "crc_sigf_vals.append(mm2_crc_df[mm2_crc_df['TrueEP'] == 1]['Signal_CT'].agg('mean') * 100)\n",
    "crc_sigf_vals.append(mm2_crc_df[mm2_crc_df['TrueEP'] == 1]['Signal_FamHx'].agg('mean') * 100)\n",
    "crc_sigf_vals.append(mm2_crc_df[mm2_crc_df['TrueEP'] == 1]['Signal_MassExam'].agg('mean') * 100)\n",
    "crc_sigf_vals.append(mm2_crc_df[mm2_crc_df['TrueEP'] == 1]['Signal_Other'].agg('mean') * 100)\n",
    "\n",
    "crc_sigf_df['Frequency'] = crc_sigf_vals\n",
    "crc_sigf_df = crc_sigf_df.sort_values(by='Frequency', ascending=False)"
   ]
  },
  {
   "cell_type": "code",
   "execution_count": 35,
   "metadata": {},
   "outputs": [
    {
     "data": {
      "text/html": [
       "<div>\n",
       "<style scoped>\n",
       "    .dataframe tbody tr th:only-of-type {\n",
       "        vertical-align: middle;\n",
       "    }\n",
       "\n",
       "    .dataframe tbody tr th {\n",
       "        vertical-align: top;\n",
       "    }\n",
       "\n",
       "    .dataframe thead th {\n",
       "        text-align: right;\n",
       "    }\n",
       "</style>\n",
       "<table border=\"1\" class=\"dataframe\">\n",
       "  <thead>\n",
       "    <tr style=\"text-align: right;\">\n",
       "      <th></th>\n",
       "      <th>Signal</th>\n",
       "      <th>Frequency</th>\n",
       "    </tr>\n",
       "  </thead>\n",
       "  <tbody>\n",
       "    <tr>\n",
       "      <th>0</th>\n",
       "      <td>IDA</td>\n",
       "      <td>52.054795</td>\n",
       "    </tr>\n",
       "    <tr>\n",
       "      <th>10</th>\n",
       "      <td>CT</td>\n",
       "      <td>47.945205</td>\n",
       "    </tr>\n",
       "    <tr>\n",
       "      <th>2</th>\n",
       "      <td>BloodyStool</td>\n",
       "      <td>30.136986</td>\n",
       "    </tr>\n",
       "    <tr>\n",
       "      <th>5</th>\n",
       "      <td>StoolCaliber</td>\n",
       "      <td>17.808219</td>\n",
       "    </tr>\n",
       "    <tr>\n",
       "      <th>6</th>\n",
       "      <td>CScope</td>\n",
       "      <td>16.438356</td>\n",
       "    </tr>\n",
       "    <tr>\n",
       "      <th>1</th>\n",
       "      <td>Obstruction</td>\n",
       "      <td>8.219178</td>\n",
       "    </tr>\n",
       "    <tr>\n",
       "      <th>4</th>\n",
       "      <td>RectMass</td>\n",
       "      <td>6.849315</td>\n",
       "    </tr>\n",
       "    <tr>\n",
       "      <th>3</th>\n",
       "      <td>AbdMass</td>\n",
       "      <td>4.109589</td>\n",
       "    </tr>\n",
       "    <tr>\n",
       "      <th>7</th>\n",
       "      <td>FOBT</td>\n",
       "      <td>4.109589</td>\n",
       "    </tr>\n",
       "    <tr>\n",
       "      <th>11</th>\n",
       "      <td>FamHx</td>\n",
       "      <td>2.739726</td>\n",
       "    </tr>\n",
       "    <tr>\n",
       "      <th>13</th>\n",
       "      <td>Other</td>\n",
       "      <td>2.739726</td>\n",
       "    </tr>\n",
       "    <tr>\n",
       "      <th>12</th>\n",
       "      <td>MassExam</td>\n",
       "      <td>1.369863</td>\n",
       "    </tr>\n",
       "    <tr>\n",
       "      <th>8</th>\n",
       "      <td>FlexSig</td>\n",
       "      <td>0.000000</td>\n",
       "    </tr>\n",
       "    <tr>\n",
       "      <th>9</th>\n",
       "      <td>Enema</td>\n",
       "      <td>0.000000</td>\n",
       "    </tr>\n",
       "  </tbody>\n",
       "</table>\n",
       "</div>"
      ],
      "text/plain": [
       "          Signal  Frequency\n",
       "0            IDA  52.054795\n",
       "10            CT  47.945205\n",
       "2    BloodyStool  30.136986\n",
       "5   StoolCaliber  17.808219\n",
       "6         CScope  16.438356\n",
       "1    Obstruction   8.219178\n",
       "4       RectMass   6.849315\n",
       "3        AbdMass   4.109589\n",
       "7           FOBT   4.109589\n",
       "11         FamHx   2.739726\n",
       "13         Other   2.739726\n",
       "12      MassExam   1.369863\n",
       "8        FlexSig   0.000000\n",
       "9          Enema   0.000000"
      ]
     },
     "execution_count": 35,
     "metadata": {},
     "output_type": "execute_result"
    }
   ],
   "source": [
    "crc_sigf_df"
   ]
  },
  {
   "cell_type": "code",
   "execution_count": 36,
   "metadata": {},
   "outputs": [
    {
     "data": {
      "text/plain": [
       "(0.0, 100.0)"
      ]
     },
     "execution_count": 36,
     "metadata": {},
     "output_type": "execute_result"
    },
    {
     "data": {
      "image/png": "[encoded data removed]",
      "text/plain": [
       "<Figure size 720x360 with 1 Axes>"
      ]
     },
     "metadata": {
      "needs_background": "light"
     },
     "output_type": "display_data"
    }
   ],
   "source": [
    "crc_sigf_plt = sns.barplot(data=crc_sigf_df, y='Signal', x='Frequency', orientation='horizontal')\n",
    "crc_sigf_plt.axes.set_title(\"Frequencies of Cancer Signals in EPs of CRC\", fontsize=20)\n",
    "crc_sigf_plt.axes.set_ylabel (\"Signal\", fontsize=14)\n",
    "crc_sigf_plt.axes.set_xlabel (\"% of Reviewed True Positive EPs\", fontsize=14)\n",
    "crc_sigf_plt.axes.set_xlim ([0, 100])"
   ]
  },
  {
   "cell_type": "markdown",
   "metadata": {},
   "source": [
    "### LCa"
   ]
  },
  {
   "cell_type": "code",
   "execution_count": 37,
   "metadata": {},
   "outputs": [],
   "source": [
    "lca_sigf_df = pd.DataFrame({'Signal':['Cough', 'Dyspnea', 'ChestPain', 'Hemoptysis', 'LRTI', 'Imaging', 'Paraneoplastic', 'Hoarse', 'WtLoss', 'Other']})\n",
    "lca_sigf_vals = [] \n",
    "\n",
    "lca_sigf_vals.append(mm2_lca_df[mm2_lca_df['TrueEP'] == 1]['Signal_Cough'].agg('mean') * 100)\n",
    "lca_sigf_vals.append(mm2_lca_df[mm2_lca_df['TrueEP'] == 1]['Signal_Dyspnea'].agg('mean') * 100)\n",
    "lca_sigf_vals.append(mm2_lca_df[mm2_lca_df['TrueEP'] == 1]['Signal_ChestPain'].agg('mean') * 100)\n",
    "lca_sigf_vals.append(mm2_lca_df[mm2_lca_df['TrueEP'] == 1]['Signal_Hemoptysis'].agg('mean') * 100)\n",
    "lca_sigf_vals.append(mm2_lca_df[mm2_lca_df['TrueEP'] == 1]['Signal_LRTI'].agg('mean') * 100)\n",
    "lca_sigf_vals.append(mm2_lca_df[mm2_lca_df['TrueEP'] == 1]['Signal_Imaging'].agg('mean') * 100)\n",
    "lca_sigf_vals.append(mm2_lca_df[mm2_lca_df['TrueEP'] == 1]['Signal_Paraneoplastic'].agg('mean') * 100)\n",
    "lca_sigf_vals.append(mm2_lca_df[mm2_lca_df['TrueEP'] == 1]['Signal_Hoarse'].agg('mean') * 100)\n",
    "lca_sigf_vals.append(mm2_lca_df[mm2_lca_df['TrueEP'] == 1]['Signal_WtLoss'].agg('mean') * 100)\n",
    "lca_sigf_vals.append(mm2_lca_df[mm2_lca_df['TrueEP'] == 1]['Signal_Other'].agg('mean') * 100)\n",
    "\n",
    "lca_sigf_df['Frequency'] = lca_sigf_vals\n",
    "lca_sigf_df = lca_sigf_df.sort_values(by='Frequency', ascending=False)"
   ]
  },
  {
   "cell_type": "code",
   "execution_count": 38,
   "metadata": {},
   "outputs": [
    {
     "data": {
      "text/plain": [
       "(0.0, 100.0)"
      ]
     },
     "execution_count": 38,
     "metadata": {},
     "output_type": "execute_result"
    },
    {
     "data": {
      "image/png": "[encoded data removed]",
      "text/plain": [
       "<Figure size 720x360 with 1 Axes>"
      ]
     },
     "metadata": {
      "needs_background": "light"
     },
     "output_type": "display_data"
    }
   ],
   "source": [
    "lca_sigf_plt = sns.barplot(data=lca_sigf_df, y='Signal', x='Frequency', orientation='horizontal')\n",
    "lca_sigf_plt.axes.set_title(\"Frequencies of Cancer Signals in EPs of Lung Cancer\", fontsize=20)\n",
    "lca_sigf_plt.axes.set_ylabel (\"Signal\", fontsize=14)\n",
    "lca_sigf_plt.axes.set_xlabel (\"% of Reviewed True Positive EPs\", fontsize=14)\n",
    "lca_sigf_plt.axes.set_xlim ([0, 100])"
   ]
  },
  {
   "cell_type": "markdown",
   "metadata": {},
   "source": [
    "## Clinical Response"
   ]
  },
  {
   "cell_type": "markdown",
   "metadata": {},
   "source": [
    "### CRC"
   ]
  },
  {
   "cell_type": "code",
   "execution_count": 39,
   "metadata": {},
   "outputs": [
    {
     "data": {
      "text/html": [
       "<div>\n",
       "<style scoped>\n",
       "    .dataframe tbody tr th:only-of-type {\n",
       "        vertical-align: middle;\n",
       "    }\n",
       "\n",
       "    .dataframe tbody tr th {\n",
       "        vertical-align: top;\n",
       "    }\n",
       "\n",
       "    .dataframe thead th {\n",
       "        text-align: right;\n",
       "    }\n",
       "</style>\n",
       "<table border=\"1\" class=\"dataframe\">\n",
       "  <thead>\n",
       "    <tr style=\"text-align: right;\">\n",
       "      <th></th>\n",
       "      <th>count</th>\n",
       "    </tr>\n",
       "    <tr>\n",
       "      <th>ResponseText</th>\n",
       "      <th></th>\n",
       "    </tr>\n",
       "  </thead>\n",
       "  <tbody>\n",
       "    <tr>\n",
       "      <th>No signal requiring f/u</th>\n",
       "      <td>0</td>\n",
       "    </tr>\n",
       "    <tr>\n",
       "      <th>Signal not recognized</th>\n",
       "      <td>2</td>\n",
       "    </tr>\n",
       "    <tr>\n",
       "      <th>Signal recognized, f/u not initiated</th>\n",
       "      <td>0</td>\n",
       "    </tr>\n",
       "    <tr>\n",
       "      <th>Signal recognized, OP f/u</th>\n",
       "      <td>13</td>\n",
       "    </tr>\n",
       "    <tr>\n",
       "      <th>Signal recognized, IP f/u</th>\n",
       "      <td>55</td>\n",
       "    </tr>\n",
       "    <tr>\n",
       "      <th>Other</th>\n",
       "      <td>3</td>\n",
       "    </tr>\n",
       "  </tbody>\n",
       "</table>\n",
       "</div>"
      ],
      "text/plain": [
       "                                      count\n",
       "ResponseText                               \n",
       "No signal requiring f/u                   0\n",
       "Signal not recognized                     2\n",
       "Signal recognized, f/u not initiated      0\n",
       "Signal recognized, OP f/u                13\n",
       "Signal recognized, IP f/u                55\n",
       "Other                                     3"
      ]
     },
     "execution_count": 39,
     "metadata": {},
     "output_type": "execute_result"
    }
   ],
   "source": [
    "crc_resp_df = mm2_crc_df[mm2_crc_df['TrueEP'] == 1].groupby('ResponseText')['TrueEP'].agg(['count'])\n",
    "crc_resp_df"
   ]
  },
  {
   "cell_type": "code",
   "execution_count": 40,
   "metadata": {},
   "outputs": [
    {
     "data": {
      "text/plain": [
       "(0.0, 60.0)"
      ]
     },
     "execution_count": 40,
     "metadata": {},
     "output_type": "execute_result"
    },
    {
     "data": {
      "image/png": "[encoded data removed]",
      "text/plain": [
       "<Figure size 720x360 with 1 Axes>"
      ]
     },
     "metadata": {
      "needs_background": "light"
     },
     "output_type": "display_data"
    }
   ],
   "source": [
    "crc_resp_plt = sns.barplot(data=crc_resp_df, y=crc_resp_df.index, x='count', orientation='horizontal')\n",
    "crc_resp_plt.axes.set_title(\"Frequencies of Follow-Up to Cancer Signals in EPs of CRC\", fontsize=20)\n",
    "crc_resp_plt.axes.set_ylabel (\"Type of Follow-Up\", fontsize=14)\n",
    "crc_resp_plt.axes.set_xlabel (\"% of Reviewed True Positive EPs\", fontsize=14)\n",
    "crc_resp_plt.axes.set_xlim ([0, 60])"
   ]
  },
  {
   "cell_type": "markdown",
   "metadata": {},
   "source": [
    "### LCa"
   ]
  },
  {
   "cell_type": "code",
   "execution_count": 41,
   "metadata": {},
   "outputs": [
    {
     "data": {
      "text/html": [
       "<div>\n",
       "<style scoped>\n",
       "    .dataframe tbody tr th:only-of-type {\n",
       "        vertical-align: middle;\n",
       "    }\n",
       "\n",
       "    .dataframe tbody tr th {\n",
       "        vertical-align: top;\n",
       "    }\n",
       "\n",
       "    .dataframe thead th {\n",
       "        text-align: right;\n",
       "    }\n",
       "</style>\n",
       "<table border=\"1\" class=\"dataframe\">\n",
       "  <thead>\n",
       "    <tr style=\"text-align: right;\">\n",
       "      <th></th>\n",
       "      <th>count</th>\n",
       "    </tr>\n",
       "    <tr>\n",
       "      <th>ResponseText</th>\n",
       "      <th></th>\n",
       "    </tr>\n",
       "  </thead>\n",
       "  <tbody>\n",
       "    <tr>\n",
       "      <th>No signal requiring f/u</th>\n",
       "      <td>1</td>\n",
       "    </tr>\n",
       "    <tr>\n",
       "      <th>Signal not recognized</th>\n",
       "      <td>2</td>\n",
       "    </tr>\n",
       "    <tr>\n",
       "      <th>Signal recognized, f/u not initiated</th>\n",
       "      <td>0</td>\n",
       "    </tr>\n",
       "    <tr>\n",
       "      <th>Signal recognized, OP f/u</th>\n",
       "      <td>22</td>\n",
       "    </tr>\n",
       "    <tr>\n",
       "      <th>Signal recognized, IP f/u</th>\n",
       "      <td>55</td>\n",
       "    </tr>\n",
       "    <tr>\n",
       "      <th>Other</th>\n",
       "      <td>0</td>\n",
       "    </tr>\n",
       "  </tbody>\n",
       "</table>\n",
       "</div>"
      ],
      "text/plain": [
       "                                      count\n",
       "ResponseText                               \n",
       "No signal requiring f/u                   1\n",
       "Signal not recognized                     2\n",
       "Signal recognized, f/u not initiated      0\n",
       "Signal recognized, OP f/u                22\n",
       "Signal recognized, IP f/u                55\n",
       "Other                                     0"
      ]
     },
     "execution_count": 41,
     "metadata": {},
     "output_type": "execute_result"
    }
   ],
   "source": [
    "lca_resp_df = mm2_lca_df[mm2_lca_df['TrueEP'] == 1].groupby('ResponseText')['TrueEP'].agg(['count'])\n",
    "lca_resp_df"
   ]
  },
  {
   "cell_type": "code",
   "execution_count": 42,
   "metadata": {},
   "outputs": [
    {
     "data": {
      "text/plain": [
       "(0.0, 60.0)"
      ]
     },
     "execution_count": 42,
     "metadata": {},
     "output_type": "execute_result"
    },
    {
     "data": {
      "image/png": "[encoded data removed]",
      "text/plain": [
       "<Figure size 720x360 with 1 Axes>"
      ]
     },
     "metadata": {
      "needs_background": "light"
     },
     "output_type": "display_data"
    }
   ],
   "source": [
    "lca_resp_plt = sns.barplot(data=lca_resp_df, y=lca_resp_df.index, x='count', orientation='horizontal')\n",
    "lca_resp_plt.axes.set_title(\"Frequencies of Follow-Up to Cancer Signals in EPs of Lung Cancer\", fontsize=20)\n",
    "lca_resp_plt.axes.set_ylabel (\"Type of Follow-Up\", fontsize=14)\n",
    "lca_resp_plt.axes.set_xlabel (\"% of Reviewed True Positive EPs\", fontsize=14)\n",
    "lca_resp_plt.axes.set_xlim ([0, 60])"
   ]
  },
  {
   "cell_type": "markdown",
   "metadata": {},
   "source": [
    "## Type of EP"
   ]
  },
  {
   "cell_type": "markdown",
   "metadata": {},
   "source": [
    "### CRC"
   ]
  },
  {
   "cell_type": "code",
   "execution_count": 43,
   "metadata": {},
   "outputs": [
    {
     "data": {
      "text/html": [
       "<div>\n",
       "<style scoped>\n",
       "    .dataframe tbody tr th:only-of-type {\n",
       "        vertical-align: middle;\n",
       "    }\n",
       "\n",
       "    .dataframe tbody tr th {\n",
       "        vertical-align: top;\n",
       "    }\n",
       "\n",
       "    .dataframe thead th {\n",
       "        text-align: right;\n",
       "    }\n",
       "</style>\n",
       "<table border=\"1\" class=\"dataframe\">\n",
       "  <thead>\n",
       "    <tr style=\"text-align: right;\">\n",
       "      <th></th>\n",
       "      <th>count</th>\n",
       "    </tr>\n",
       "    <tr>\n",
       "      <th>TypeEPText</th>\n",
       "      <th></th>\n",
       "    </tr>\n",
       "  </thead>\n",
       "  <tbody>\n",
       "    <tr>\n",
       "      <th>Dx within emergency event</th>\n",
       "      <td>51</td>\n",
       "    </tr>\n",
       "    <tr>\n",
       "      <th>Cancer-related emergency -&gt; Related subsequent encounter</th>\n",
       "      <td>12</td>\n",
       "    </tr>\n",
       "    <tr>\n",
       "      <th>Non-cancer-related emergency -&gt; Related subsequent encounter</th>\n",
       "      <td>8</td>\n",
       "    </tr>\n",
       "    <tr>\n",
       "      <th>Non-cancer-related emergency -&gt; Unrelated subsequent encounter</th>\n",
       "      <td>2</td>\n",
       "    </tr>\n",
       "    <tr>\n",
       "      <th>Other</th>\n",
       "      <td>0</td>\n",
       "    </tr>\n",
       "  </tbody>\n",
       "</table>\n",
       "</div>"
      ],
      "text/plain": [
       "                                                    count\n",
       "TypeEPText                                               \n",
       "Dx within emergency event                              51\n",
       "Cancer-related emergency -> Related subsequent ...     12\n",
       "Non-cancer-related emergency -> Related subsequ...      8\n",
       "Non-cancer-related emergency -> Unrelated subse...      2\n",
       "Other                                                   0"
      ]
     },
     "execution_count": 43,
     "metadata": {},
     "output_type": "execute_result"
    }
   ],
   "source": [
    "crc_typeep_df = mm2_crc_df[mm2_crc_df['TrueEP'] == 1].groupby('TypeEPText')['TrueEP'].agg(['count'])\n",
    "crc_typeep_df"
   ]
  },
  {
   "cell_type": "code",
   "execution_count": 44,
   "metadata": {},
   "outputs": [
    {
     "data": {
      "text/plain": [
       "(0.0, 60.0)"
      ]
     },
     "execution_count": 44,
     "metadata": {},
     "output_type": "execute_result"
    },
    {
     "data": {
      "image/png": "[encoded data removed]",
      "text/plain": [
       "<Figure size 720x360 with 1 Axes>"
      ]
     },
     "metadata": {
      "needs_background": "light"
     },
     "output_type": "display_data"
    }
   ],
   "source": [
    "crc_typeep_plt = sns.barplot(data=crc_typeep_df, y=crc_typeep_df.index, x='count', orientation='horizontal')\n",
    "crc_typeep_plt.axes.set_title(\"Types of EPs of CRC\", fontsize=20)\n",
    "crc_typeep_plt.axes.set_ylabel (\"EP Type\", fontsize=14)\n",
    "crc_typeep_plt.axes.set_xlabel (\"% of Reviewed True Positive EPs\", fontsize=14)\n",
    "crc_typeep_plt.axes.set_xlim ([0, 60])"
   ]
  },
  {
   "cell_type": "markdown",
   "metadata": {},
   "source": [
    "### LCa"
   ]
  },
  {
   "cell_type": "code",
   "execution_count": 45,
   "metadata": {},
   "outputs": [
    {
     "data": {
      "text/html": [
       "<div>\n",
       "<style scoped>\n",
       "    .dataframe tbody tr th:only-of-type {\n",
       "        vertical-align: middle;\n",
       "    }\n",
       "\n",
       "    .dataframe tbody tr th {\n",
       "        vertical-align: top;\n",
       "    }\n",
       "\n",
       "    .dataframe thead th {\n",
       "        text-align: right;\n",
       "    }\n",
       "</style>\n",
       "<table border=\"1\" class=\"dataframe\">\n",
       "  <thead>\n",
       "    <tr style=\"text-align: right;\">\n",
       "      <th></th>\n",
       "      <th>count</th>\n",
       "    </tr>\n",
       "    <tr>\n",
       "      <th>TypeEPText</th>\n",
       "      <th></th>\n",
       "    </tr>\n",
       "  </thead>\n",
       "  <tbody>\n",
       "    <tr>\n",
       "      <th>Dx within emergency event</th>\n",
       "      <td>45</td>\n",
       "    </tr>\n",
       "    <tr>\n",
       "      <th>Cancer-related emergency -&gt; Related subsequent encounter</th>\n",
       "      <td>20</td>\n",
       "    </tr>\n",
       "    <tr>\n",
       "      <th>Non-cancer-related emergency -&gt; Related subsequent encounter</th>\n",
       "      <td>12</td>\n",
       "    </tr>\n",
       "    <tr>\n",
       "      <th>Non-cancer-related emergency -&gt; Unrelated subsequent encounter</th>\n",
       "      <td>1</td>\n",
       "    </tr>\n",
       "    <tr>\n",
       "      <th>Other</th>\n",
       "      <td>2</td>\n",
       "    </tr>\n",
       "  </tbody>\n",
       "</table>\n",
       "</div>"
      ],
      "text/plain": [
       "                                                    count\n",
       "TypeEPText                                               \n",
       "Dx within emergency event                              45\n",
       "Cancer-related emergency -> Related subsequent ...     20\n",
       "Non-cancer-related emergency -> Related subsequ...     12\n",
       "Non-cancer-related emergency -> Unrelated subse...      1\n",
       "Other                                                   2"
      ]
     },
     "execution_count": 45,
     "metadata": {},
     "output_type": "execute_result"
    }
   ],
   "source": [
    "lca_typeep_df = mm2_lca_df[mm2_lca_df['TrueEP'] == 1].groupby('TypeEPText')['TrueEP'].agg(['count'])\n",
    "lca_typeep_df"
   ]
  },
  {
   "cell_type": "code",
   "execution_count": 46,
   "metadata": {},
   "outputs": [
    {
     "data": {
      "text/plain": [
       "(0.0, 60.0)"
      ]
     },
     "execution_count": 46,
     "metadata": {},
     "output_type": "execute_result"
    },
    {
     "data": {
      "image/png": "[encoded data removed]",
      "text/plain": [
       "<Figure size 720x360 with 1 Axes>"
      ]
     },
     "metadata": {
      "needs_background": "light"
     },
     "output_type": "display_data"
    }
   ],
   "source": [
    "lca_typeep_plt = sns.barplot(data=lca_typeep_df, y=lca_typeep_df.index, x='count', orientation='horizontal')\n",
    "lca_typeep_plt.axes.set_title(\"Types of EPs of LCa\", fontsize=20)\n",
    "lca_typeep_plt.axes.set_ylabel (\"EP Type\", fontsize=14)\n",
    "lca_typeep_plt.axes.set_xlabel (\"% of Reviewed True Positive EPs\", fontsize=14)\n",
    "lca_typeep_plt.axes.set_xlim ([0, 60])"
   ]
  },
  {
   "cell_type": "markdown",
   "metadata": {},
   "source": [
    "## Diagnostic Testing"
   ]
  },
  {
   "cell_type": "markdown",
   "metadata": {},
   "source": [
    "### CRC"
   ]
  },
  {
   "cell_type": "code",
   "execution_count": 47,
   "metadata": {},
   "outputs": [
    {
     "data": {
      "text/plain": [
       "23.28767123287671"
      ]
     },
     "execution_count": 47,
     "metadata": {},
     "output_type": "execute_result"
    }
   ],
   "source": [
    "mm2_crc_scr_stats = mm2_crc_df[mm2_crc_df['TrueEP'] == 1]['ScreeningUpToDate'].agg(['mean'])\n",
    "mm2_crc_scr_stats[\"% Up To Date on Screening\"] = mm2_crc_scr_stats['mean'] * 100\n",
    "mm2_crc_scr_stats['% Up To Date on Screening']"
   ]
  },
  {
   "cell_type": "markdown",
   "metadata": {},
   "source": [
    "### LCa"
   ]
  },
  {
   "cell_type": "code",
   "execution_count": 48,
   "metadata": {},
   "outputs": [
    {
     "data": {
      "text/plain": [
       "13.750000000000002"
      ]
     },
     "execution_count": 48,
     "metadata": {},
     "output_type": "execute_result"
    }
   ],
   "source": [
    "mm2_lca_scr_stats = mm2_lca_df[mm2_lca_df['TrueEP'] == 1]['ScreeningUpToDate'].agg(['mean'])\n",
    "mm2_lca_scr_stats[\"% Up To Date on Screening\"] = mm2_lca_scr_stats['mean'] * 100\n",
    "mm2_lca_scr_stats['% Up To Date on Screening']"
   ]
  },
  {
   "cell_type": "markdown",
   "metadata": {},
   "source": [
    "## Earliest Red Flag"
   ]
  },
  {
   "cell_type": "markdown",
   "metadata": {},
   "source": [
    "### CRC"
   ]
  },
  {
   "cell_type": "code",
   "execution_count": 49,
   "metadata": {},
   "outputs": [
    {
     "data": {
      "text/plain": [
       "65.75342465753424"
      ]
     },
     "execution_count": 49,
     "metadata": {},
     "output_type": "execute_result"
    }
   ],
   "source": [
    "mm2_crc_rf_stats = mm2_crc_df[mm2_crc_df['TrueEP'] == 1]['RFPriorToDx'].agg(['mean'])\n",
    "mm2_crc_rf_stats[\"% RF prior to Dx\"] = mm2_crc_rf_stats['mean'] * 100\n",
    "mm2_crc_rf_stats['% RF prior to Dx']"
   ]
  },
  {
   "cell_type": "markdown",
   "metadata": {},
   "source": [
    "### LCa"
   ]
  },
  {
   "cell_type": "code",
   "execution_count": 50,
   "metadata": {},
   "outputs": [
    {
     "data": {
      "text/plain": [
       "47.5"
      ]
     },
     "execution_count": 50,
     "metadata": {},
     "output_type": "execute_result"
    }
   ],
   "source": [
    "mm2_lca_rf_stats = mm2_lca_df[mm2_lca_df['TrueEP'] == 1]['RFPriorToDx'].agg(['mean'])\n",
    "mm2_lca_rf_stats[\"% RF prior to Dx\"] = mm2_lca_rf_stats['mean'] * 100\n",
    "mm2_lca_rf_stats['% RF prior to Dx']"
   ]
  },
  {
   "cell_type": "markdown",
   "metadata": {},
   "source": [
    "## MOD"
   ]
  },
  {
   "cell_type": "markdown",
   "metadata": {},
   "source": [
    "### CRC"
   ]
  },
  {
   "cell_type": "code",
   "execution_count": 51,
   "metadata": {},
   "outputs": [
    {
     "data": {
      "text/plain": [
       "69.86301369863014"
      ]
     },
     "execution_count": 51,
     "metadata": {},
     "output_type": "execute_result"
    }
   ],
   "source": [
    "mm2_crc_mod_stats = mm2_crc_df[mm2_crc_df['TrueEP'] == 1]['HasMOD'].agg(['mean'])\n",
    "mm2_crc_mod_stats['% MODs'] = mm2_crc_mod_stats['mean'] * 100\n",
    "mm2_crc_mod_stats['% MODs']"
   ]
  },
  {
   "cell_type": "markdown",
   "metadata": {},
   "source": [
    "### LCa"
   ]
  },
  {
   "cell_type": "code",
   "execution_count": 52,
   "metadata": {},
   "outputs": [
    {
     "data": {
      "text/plain": [
       "47.5"
      ]
     },
     "execution_count": 52,
     "metadata": {},
     "output_type": "execute_result"
    }
   ],
   "source": [
    "mm2_lca_mod_stats = mm2_lca_df[mm2_lca_df['TrueEP'] == 1]['HasMOD'].agg(['mean'])\n",
    "mm2_lca_mod_stats['% MODs'] = mm2_lca_mod_stats['mean'] * 100\n",
    "mm2_lca_mod_stats['% MODs']"
   ]
  },
  {
   "cell_type": "markdown",
   "metadata": {},
   "source": [
    "## MOD Dimensions"
   ]
  },
  {
   "cell_type": "markdown",
   "metadata": {},
   "source": [
    "### CRC"
   ]
  },
  {
   "cell_type": "code",
   "execution_count": 53,
   "metadata": {
    "scrolled": true
   },
   "outputs": [],
   "source": [
    "crc_dim_df = pd.DataFrame({'Dimension':['Patient-Related', 'Patient-Provider Encounter', 'Diagnostic Tests', 'Follow-Up and Tracking', 'Referrals']})\n",
    "crc_dim_vals = [] \n",
    "\n",
    "crc_dim_vals.append(mm2_crc_df[mm2_crc_df['HasMOD'] == 1]['DimensionPtRelated_Parsed'].agg('mean') * 100)\n",
    "crc_dim_vals.append(mm2_crc_df[mm2_crc_df['HasMOD'] == 1]['DimensionPtProvEncounter_Parsed'].agg('mean') * 100)\n",
    "crc_dim_vals.append(mm2_crc_df[mm2_crc_df['HasMOD'] == 1]['DimensionDxTests_Parsed'].agg('mean') * 100)\n",
    "crc_dim_vals.append(mm2_crc_df[mm2_crc_df['HasMOD'] == 1]['DimensionFupTrack_Parsed'].agg('mean') * 100)\n",
    "crc_dim_vals.append(mm2_crc_df[mm2_crc_df['HasMOD'] == 1]['DimensionReferrals_Parsed'].agg('mean') * 100)\n",
    "\n",
    "crc_dim_df['Frequency'] = crc_dim_vals"
   ]
  },
  {
   "cell_type": "code",
   "execution_count": 54,
   "metadata": {},
   "outputs": [
    {
     "data": {
      "text/html": [
       "<div>\n",
       "<style scoped>\n",
       "    .dataframe tbody tr th:only-of-type {\n",
       "        vertical-align: middle;\n",
       "    }\n",
       "\n",
       "    .dataframe tbody tr th {\n",
       "        vertical-align: top;\n",
       "    }\n",
       "\n",
       "    .dataframe thead th {\n",
       "        text-align: right;\n",
       "    }\n",
       "</style>\n",
       "<table border=\"1\" class=\"dataframe\">\n",
       "  <thead>\n",
       "    <tr style=\"text-align: right;\">\n",
       "      <th></th>\n",
       "      <th>Dimension</th>\n",
       "      <th>Frequency</th>\n",
       "    </tr>\n",
       "  </thead>\n",
       "  <tbody>\n",
       "    <tr>\n",
       "      <th>0</th>\n",
       "      <td>Patient-Related</td>\n",
       "      <td>57.142857</td>\n",
       "    </tr>\n",
       "    <tr>\n",
       "      <th>1</th>\n",
       "      <td>Patient-Provider Encounter</td>\n",
       "      <td>39.285714</td>\n",
       "    </tr>\n",
       "    <tr>\n",
       "      <th>2</th>\n",
       "      <td>Diagnostic Tests</td>\n",
       "      <td>23.214286</td>\n",
       "    </tr>\n",
       "    <tr>\n",
       "      <th>3</th>\n",
       "      <td>Follow-Up and Tracking</td>\n",
       "      <td>35.714286</td>\n",
       "    </tr>\n",
       "    <tr>\n",
       "      <th>4</th>\n",
       "      <td>Referrals</td>\n",
       "      <td>0.000000</td>\n",
       "    </tr>\n",
       "  </tbody>\n",
       "</table>\n",
       "</div>"
      ],
      "text/plain": [
       "                    Dimension  Frequency\n",
       "0             Patient-Related  57.142857\n",
       "1  Patient-Provider Encounter  39.285714\n",
       "2            Diagnostic Tests  23.214286\n",
       "3      Follow-Up and Tracking  35.714286\n",
       "4                   Referrals   0.000000"
      ]
     },
     "execution_count": 54,
     "metadata": {},
     "output_type": "execute_result"
    }
   ],
   "source": [
    "crc_dim_df"
   ]
  },
  {
   "cell_type": "code",
   "execution_count": 55,
   "metadata": {},
   "outputs": [
    {
     "data": {
      "text/plain": [
       "(0.0, 100.0)"
      ]
     },
     "execution_count": 55,
     "metadata": {},
     "output_type": "execute_result"
    },
    {
     "data": {
      "image/png": "[encoded data removed]",
      "text/plain": [
       "<Figure size 720x360 with 1 Axes>"
      ]
     },
     "metadata": {
      "needs_background": "light"
     },
     "output_type": "display_data"
    }
   ],
   "source": [
    "crc_dim_plt = sns.barplot(data=crc_dim_df, y='Dimension', x='Frequency', orientation='horizontal')\n",
    "crc_dim_plt.axes.set_title(\"Dimensions Attributed to MOD in CRC\", fontsize=20)\n",
    "crc_dim_plt.axes.set_ylabel (\"Dimension\", fontsize=14)\n",
    "crc_dim_plt.axes.set_xlabel (\"% of Reviewed MODs\", fontsize=14)\n",
    "crc_dim_plt.axes.set_xlim ([0, 100])"
   ]
  },
  {
   "cell_type": "markdown",
   "metadata": {},
   "source": [
    "### LCa"
   ]
  },
  {
   "cell_type": "code",
   "execution_count": 56,
   "metadata": {},
   "outputs": [],
   "source": [
    "lca_dim_df = pd.DataFrame({'Dimension':['Patient-Related', 'Patient-Provider Encounter', 'Diagnostic Tests', 'Follow-Up and Tracking', 'Referrals']})\n",
    "lca_dim_vals = [] \n",
    "\n",
    "lca_dim_vals.append(mm2_lca_df[mm2_lca_df['HasMOD'] == 1]['DimensionPtRelated_Parsed'].agg('mean') * 100)\n",
    "lca_dim_vals.append(mm2_lca_df[mm2_lca_df['HasMOD'] == 1]['DimensionPtProvEncounter_Parsed'].agg('mean') * 100)\n",
    "lca_dim_vals.append(mm2_lca_df[mm2_lca_df['HasMOD'] == 1]['DimensionDxTests_Parsed'].agg('mean') * 100)\n",
    "lca_dim_vals.append(mm2_lca_df[mm2_lca_df['HasMOD'] == 1]['DimensionFupTrack_Parsed'].agg('mean') * 100)\n",
    "lca_dim_vals.append(mm2_lca_df[mm2_lca_df['HasMOD'] == 1]['DimensionReferrals_Parsed'].agg('mean') * 100)\n",
    "\n",
    "lca_dim_df['Frequency'] = lca_dim_vals"
   ]
  },
  {
   "cell_type": "code",
   "execution_count": 57,
   "metadata": {},
   "outputs": [
    {
     "data": {
      "text/html": [
       "<div>\n",
       "<style scoped>\n",
       "    .dataframe tbody tr th:only-of-type {\n",
       "        vertical-align: middle;\n",
       "    }\n",
       "\n",
       "    .dataframe tbody tr th {\n",
       "        vertical-align: top;\n",
       "    }\n",
       "\n",
       "    .dataframe thead th {\n",
       "        text-align: right;\n",
       "    }\n",
       "</style>\n",
       "<table border=\"1\" class=\"dataframe\">\n",
       "  <thead>\n",
       "    <tr style=\"text-align: right;\">\n",
       "      <th></th>\n",
       "      <th>Dimension</th>\n",
       "      <th>Frequency</th>\n",
       "    </tr>\n",
       "  </thead>\n",
       "  <tbody>\n",
       "    <tr>\n",
       "      <th>0</th>\n",
       "      <td>Patient-Related</td>\n",
       "      <td>30.232558</td>\n",
       "    </tr>\n",
       "    <tr>\n",
       "      <th>1</th>\n",
       "      <td>Patient-Provider Encounter</td>\n",
       "      <td>30.232558</td>\n",
       "    </tr>\n",
       "    <tr>\n",
       "      <th>2</th>\n",
       "      <td>Diagnostic Tests</td>\n",
       "      <td>53.488372</td>\n",
       "    </tr>\n",
       "    <tr>\n",
       "      <th>3</th>\n",
       "      <td>Follow-Up and Tracking</td>\n",
       "      <td>20.930233</td>\n",
       "    </tr>\n",
       "    <tr>\n",
       "      <th>4</th>\n",
       "      <td>Referrals</td>\n",
       "      <td>0.000000</td>\n",
       "    </tr>\n",
       "  </tbody>\n",
       "</table>\n",
       "</div>"
      ],
      "text/plain": [
       "                    Dimension  Frequency\n",
       "0             Patient-Related  30.232558\n",
       "1  Patient-Provider Encounter  30.232558\n",
       "2            Diagnostic Tests  53.488372\n",
       "3      Follow-Up and Tracking  20.930233\n",
       "4                   Referrals   0.000000"
      ]
     },
     "execution_count": 57,
     "metadata": {},
     "output_type": "execute_result"
    }
   ],
   "source": [
    "lca_dim_df"
   ]
  },
  {
   "cell_type": "code",
   "execution_count": 58,
   "metadata": {},
   "outputs": [
    {
     "data": {
      "text/plain": [
       "(0.0, 100.0)"
      ]
     },
     "execution_count": 58,
     "metadata": {},
     "output_type": "execute_result"
    },
    {
     "data": {
      "image/png": "[encoded data removed]",
      "text/plain": [
       "<Figure size 720x360 with 1 Axes>"
      ]
     },
     "metadata": {
      "needs_background": "light"
     },
     "output_type": "display_data"
    }
   ],
   "source": [
    "lca_dim_plt = sns.barplot(data=lca_dim_df, y='Dimension', x='Frequency', orientation='horizontal')\n",
    "lca_dim_plt.axes.set_title(\"Dimensions Attributed to MOD in Lung Cancer\", fontsize=20)\n",
    "lca_dim_plt.axes.set_ylabel (\"Dimension\", fontsize=14)\n",
    "lca_dim_plt.axes.set_xlabel (\"% of Reviewed MODs\", fontsize=14)\n",
    "lca_dim_plt.axes.set_xlim ([0, 100])"
   ]
  }
 ],
 "metadata": {
  "kernelspec": {
   "display_name": "spademl_01_02",
   "language": "python",
   "name": "spademl_01_02"
  },
  "language_info": {
   "codemirror_mode": {
    "name": "ipython",
    "version": 3
   },
   "file_extension": ".py",
   "mimetype": "text/x-python",
   "name": "python",
   "nbconvert_exporter": "python",
   "pygments_lexer": "ipython3",
   "version": "3.7.9"
  }
 },
 "nbformat": 4,
 "nbformat_minor": 4
}
