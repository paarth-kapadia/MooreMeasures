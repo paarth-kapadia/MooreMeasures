{
 "cells": [
  {
   "cell_type": "markdown",
   "id": "resident-airfare",
   "metadata": {},
   "source": [
    "# Emergency Presentation analysis for paper"
   ]
  },
  {
   "cell_type": "code",
   "execution_count": 1,
   "id": "urban-choice",
   "metadata": {},
   "outputs": [],
   "source": [
    "import pyodbc\n",
    "import pandas as pd  # sure takes a long time"
   ]
  },
  {
   "cell_type": "markdown",
   "id": "periodic-moral",
   "metadata": {},
   "source": [
    "## SQL setup"
   ]
  },
  {
   "cell_type": "code",
   "execution_count": 2,
   "id": "younger-disease",
   "metadata": {},
   "outputs": [],
   "source": [
    "conn = pyodbc.connect(\"DRIVER={SQL Server};SERVER=VHACDWRB03;DATABASE=ORD_Singh_202001030D\")\n",
    "\n",
    "# other stuff you can do with a connection but we won't\n",
    "# cursor = conn.cursor()\n",
    "# cursor.description  # gives you column names\n",
    "# cursor.execute(sql)\n",
    "#for i, row in enumerate(cursor):\n",
    "#    if i < 20:\n",
    "#        print(row)\n",
    "# conn.close()"
   ]
  },
  {
   "cell_type": "markdown",
   "id": "small-determination",
   "metadata": {},
   "source": [
    "## Pandas setup"
   ]
  },
  {
   "cell_type": "code",
   "execution_count": 17,
   "id": "superior-invitation",
   "metadata": {},
   "outputs": [],
   "source": [
    "info_str = \"select * from information_schema.tables where table_name like '%ppko%master%'\"\n",
    "info_df = pd.read_sql(sql=info_str, con=conn)"
   ]
  },
  {
   "cell_type": "code",
   "execution_count": 18,
   "id": "serial-processor",
   "metadata": {
    "scrolled": true
   },
   "outputs": [
    {
     "data": {
      "text/html": [
       "<div>\n",
       "<style scoped>\n",
       "    .dataframe tbody tr th:only-of-type {\n",
       "        vertical-align: middle;\n",
       "    }\n",
       "\n",
       "    .dataframe tbody tr th {\n",
       "        vertical-align: top;\n",
       "    }\n",
       "\n",
       "    .dataframe thead th {\n",
       "        text-align: right;\n",
       "    }\n",
       "</style>\n",
       "<table border=\"1\" class=\"dataframe\">\n",
       "  <thead>\n",
       "    <tr style=\"text-align: right;\">\n",
       "      <th></th>\n",
       "      <th>TABLE_CATALOG</th>\n",
       "      <th>TABLE_SCHEMA</th>\n",
       "      <th>TABLE_NAME</th>\n",
       "      <th>TABLE_TYPE</th>\n",
       "    </tr>\n",
       "  </thead>\n",
       "  <tbody>\n",
       "    <tr>\n",
       "      <th>0</th>\n",
       "      <td>ORD_Singh_202001030D</td>\n",
       "      <td>Dflt</td>\n",
       "      <td>_ppko_CRC_2019_MASTER_TABLE</td>\n",
       "      <td>BASE TABLE</td>\n",
       "    </tr>\n",
       "    <tr>\n",
       "      <th>1</th>\n",
       "      <td>ORD_Singh_202001030D</td>\n",
       "      <td>Dflt</td>\n",
       "      <td>_ppko_CRC_2019_MASTER_TABLE_NOID</td>\n",
       "      <td>BASE TABLE</td>\n",
       "    </tr>\n",
       "    <tr>\n",
       "      <th>2</th>\n",
       "      <td>ORD_Singh_202001030D</td>\n",
       "      <td>Dflt</td>\n",
       "      <td>_ppko_LCa_2019_MASTER_TABLE</td>\n",
       "      <td>BASE TABLE</td>\n",
       "    </tr>\n",
       "    <tr>\n",
       "      <th>3</th>\n",
       "      <td>ORD_Singh_202001030D</td>\n",
       "      <td>Dflt</td>\n",
       "      <td>_ppko_LCa_2019_MASTER_TABLE_NOID</td>\n",
       "      <td>BASE TABLE</td>\n",
       "    </tr>\n",
       "  </tbody>\n",
       "</table>\n",
       "</div>"
      ],
      "text/plain": [
       "          TABLE_CATALOG TABLE_SCHEMA                        TABLE_NAME  \\\n",
       "0  ORD_Singh_202001030D         Dflt       _ppko_CRC_2019_MASTER_TABLE   \n",
       "1  ORD_Singh_202001030D         Dflt  _ppko_CRC_2019_MASTER_TABLE_NOID   \n",
       "2  ORD_Singh_202001030D         Dflt       _ppko_LCa_2019_MASTER_TABLE   \n",
       "3  ORD_Singh_202001030D         Dflt  _ppko_LCa_2019_MASTER_TABLE_NOID   \n",
       "\n",
       "   TABLE_TYPE  \n",
       "0  BASE TABLE  \n",
       "1  BASE TABLE  \n",
       "2  BASE TABLE  \n",
       "3  BASE TABLE  "
      ]
     },
     "metadata": {},
     "output_type": "display_data"
    }
   ],
   "source": [
    "display(info_df)"
   ]
  },
  {
   "cell_type": "code",
   "execution_count": 26,
   "id": "enabling-tactics",
   "metadata": {
    "scrolled": true
   },
   "outputs": [],
   "source": [
    "sql_str = \"Select * from dflt._ppko_CRC_2019_MASTER_TABLE\"\n",
    "X = pd.read_sql(sql=sql_str, con=conn)"
   ]
  },
  {
   "cell_type": "code",
   "execution_count": 27,
   "id": "attractive-bottom",
   "metadata": {
    "scrolled": false
   },
   "outputs": [
    {
     "data": {
      "text/plain": [
       "(2310, 16)"
      ]
     },
     "execution_count": 27,
     "metadata": {},
     "output_type": "execute_result"
    }
   ],
   "source": [
    "ds = X.shape\n",
    "ds"
   ]
  },
  {
   "cell_type": "code",
   "execution_count": 28,
   "id": "textile-angel",
   "metadata": {
    "scrolled": true
   },
   "outputs": [
    {
     "data": {
      "text/plain": [
       "['PatientSSN',\n",
       " 'PatientSID',\n",
       " 'DiagnosticEventDateTime',\n",
       " 'StageOfCancer',\n",
       " 'PatientSex',\n",
       " 'PatientAge',\n",
       " 'PatientRace',\n",
       " 'DeathDateTime',\n",
       " 'EmergencyEventDate',\n",
       " 'EP',\n",
       " 'Time90',\n",
       " 'Time180',\n",
       " 'Time365',\n",
       " 'DeathStatus90',\n",
       " 'DeathStatus180',\n",
       " 'DeathStatus365']"
      ]
     },
     "execution_count": 28,
     "metadata": {},
     "output_type": "execute_result"
    }
   ],
   "source": [
    "list(X)"
   ]
  },
  {
   "cell_type": "markdown",
   "id": "joint-watch",
   "metadata": {},
   "source": [
    "# Analysis (colon)"
   ]
  },
  {
   "cell_type": "markdown",
   "id": "endless-wrong",
   "metadata": {},
   "source": [
    "## Age (flagged, not flagged, all)"
   ]
  },
  {
   "cell_type": "code",
   "execution_count": 71,
   "id": "british-sandwich",
   "metadata": {
    "scrolled": true
   },
   "outputs": [
    {
     "data": {
      "text/html": [
       "<div>\n",
       "<style scoped>\n",
       "    .dataframe tbody tr th:only-of-type {\n",
       "        vertical-align: middle;\n",
       "    }\n",
       "\n",
       "    .dataframe tbody tr th {\n",
       "        vertical-align: top;\n",
       "    }\n",
       "\n",
       "    .dataframe thead tr th {\n",
       "        text-align: left;\n",
       "    }\n",
       "\n",
       "    .dataframe thead tr:last-of-type th {\n",
       "        text-align: right;\n",
       "    }\n",
       "</style>\n",
       "<table border=\"1\" class=\"dataframe\">\n",
       "  <thead>\n",
       "    <tr>\n",
       "      <th></th>\n",
       "      <th colspan=\"8\" halign=\"left\">PatientAge</th>\n",
       "    </tr>\n",
       "    <tr>\n",
       "      <th></th>\n",
       "      <th>count</th>\n",
       "      <th>mean</th>\n",
       "      <th>std</th>\n",
       "      <th>min</th>\n",
       "      <th>25%</th>\n",
       "      <th>50%</th>\n",
       "      <th>75%</th>\n",
       "      <th>max</th>\n",
       "    </tr>\n",
       "    <tr>\n",
       "      <th>EP</th>\n",
       "      <th></th>\n",
       "      <th></th>\n",
       "      <th></th>\n",
       "      <th></th>\n",
       "      <th></th>\n",
       "      <th></th>\n",
       "      <th></th>\n",
       "      <th></th>\n",
       "    </tr>\n",
       "  </thead>\n",
       "  <tbody>\n",
       "    <tr>\n",
       "      <th>0</th>\n",
       "      <td>1755.0</td>\n",
       "      <td>68.981766</td>\n",
       "      <td>10.450934</td>\n",
       "      <td>33.0</td>\n",
       "      <td>63.0</td>\n",
       "      <td>70.0</td>\n",
       "      <td>75.0</td>\n",
       "      <td>98.0</td>\n",
       "    </tr>\n",
       "    <tr>\n",
       "      <th>1</th>\n",
       "      <td>555.0</td>\n",
       "      <td>71.216216</td>\n",
       "      <td>12.108270</td>\n",
       "      <td>30.0</td>\n",
       "      <td>64.0</td>\n",
       "      <td>72.0</td>\n",
       "      <td>80.0</td>\n",
       "      <td>97.0</td>\n",
       "    </tr>\n",
       "  </tbody>\n",
       "</table>\n",
       "</div>"
      ],
      "text/plain": [
       "   PatientAge                                                    \n",
       "        count       mean        std   min   25%   50%   75%   max\n",
       "EP                                                               \n",
       "0      1755.0  68.981766  10.450934  33.0  63.0  70.0  75.0  98.0\n",
       "1       555.0  71.216216  12.108270  30.0  64.0  72.0  80.0  97.0"
      ]
     },
     "execution_count": 71,
     "metadata": {},
     "output_type": "execute_result"
    }
   ],
   "source": [
    "X[['PatientAge', 'EP']].groupby(by=\"EP\").describe()"
   ]
  },
  {
   "cell_type": "code",
   "execution_count": 74,
   "id": "fourth-cattle",
   "metadata": {
    "scrolled": true
   },
   "outputs": [
    {
     "data": {
      "text/html": [
       "<div>\n",
       "<style scoped>\n",
       "    .dataframe tbody tr th:only-of-type {\n",
       "        vertical-align: middle;\n",
       "    }\n",
       "\n",
       "    .dataframe tbody tr th {\n",
       "        vertical-align: top;\n",
       "    }\n",
       "\n",
       "    .dataframe thead th {\n",
       "        text-align: right;\n",
       "    }\n",
       "</style>\n",
       "<table border=\"1\" class=\"dataframe\">\n",
       "  <thead>\n",
       "    <tr style=\"text-align: right;\">\n",
       "      <th></th>\n",
       "      <th>PatientAge</th>\n",
       "    </tr>\n",
       "  </thead>\n",
       "  <tbody>\n",
       "    <tr>\n",
       "      <th>count</th>\n",
       "      <td>2310.000000</td>\n",
       "    </tr>\n",
       "    <tr>\n",
       "      <th>mean</th>\n",
       "      <td>69.518615</td>\n",
       "    </tr>\n",
       "    <tr>\n",
       "      <th>std</th>\n",
       "      <td>10.911326</td>\n",
       "    </tr>\n",
       "    <tr>\n",
       "      <th>min</th>\n",
       "      <td>30.000000</td>\n",
       "    </tr>\n",
       "    <tr>\n",
       "      <th>25%</th>\n",
       "      <td>63.000000</td>\n",
       "    </tr>\n",
       "    <tr>\n",
       "      <th>50%</th>\n",
       "      <td>71.000000</td>\n",
       "    </tr>\n",
       "    <tr>\n",
       "      <th>75%</th>\n",
       "      <td>76.000000</td>\n",
       "    </tr>\n",
       "    <tr>\n",
       "      <th>max</th>\n",
       "      <td>98.000000</td>\n",
       "    </tr>\n",
       "  </tbody>\n",
       "</table>\n",
       "</div>"
      ],
      "text/plain": [
       "        PatientAge\n",
       "count  2310.000000\n",
       "mean     69.518615\n",
       "std      10.911326\n",
       "min      30.000000\n",
       "25%      63.000000\n",
       "50%      71.000000\n",
       "75%      76.000000\n",
       "max      98.000000"
      ]
     },
     "execution_count": 74,
     "metadata": {},
     "output_type": "execute_result"
    }
   ],
   "source": [
    "X[['PatientAge']].describe()"
   ]
  },
  {
   "cell_type": "markdown",
   "id": "accessible-distance",
   "metadata": {},
   "source": [
    "## Categorical (flagged, not flagged, all)"
   ]
  },
  {
   "cell_type": "code",
   "execution_count": 79,
   "id": "modified-chain",
   "metadata": {
    "scrolled": true
   },
   "outputs": [
    {
     "data": {
      "text/plain": [
       "EP  StageOfCancer\n",
       "0   0                1133\n",
       "    1                 207\n",
       "    3                 171\n",
       "    2                 133\n",
       "    4                 111\n",
       "1   0                 339\n",
       "    4                  73\n",
       "    3                  58\n",
       "    2                  49\n",
       "    1                  36\n",
       "Name: StageOfCancer, dtype: int64"
      ]
     },
     "metadata": {},
     "output_type": "display_data"
    },
    {
     "data": {
      "text/plain": [
       "EP  PatientSex\n",
       "0   1             1669\n",
       "    2               86\n",
       "1   1              531\n",
       "    2               24\n",
       "Name: PatientSex, dtype: int64"
      ]
     },
     "metadata": {},
     "output_type": "display_data"
    },
    {
     "data": {
      "text/plain": [
       "EP  PatientRace\n",
       "0   1              1193\n",
       "    2               374\n",
       "    3               105\n",
       "    4                83\n",
       "1   1               378\n",
       "    2               111\n",
       "    3                40\n",
       "    4                26\n",
       "Name: PatientRace, dtype: int64"
      ]
     },
     "metadata": {},
     "output_type": "display_data"
    },
    {
     "name": "stdout",
     "output_type": "stream",
     "text": [
      "----\n",
      "\n",
      "\n",
      "\n"
     ]
    },
    {
     "data": {
      "text/plain": [
       "0    1472\n",
       "1     243\n",
       "3     229\n",
       "4     184\n",
       "2     182\n",
       "Name: StageOfCancer, dtype: int64"
      ]
     },
     "metadata": {},
     "output_type": "display_data"
    },
    {
     "data": {
      "text/plain": [
       "1    2200\n",
       "2     110\n",
       "Name: PatientSex, dtype: int64"
      ]
     },
     "metadata": {},
     "output_type": "display_data"
    },
    {
     "data": {
      "text/plain": [
       "1    1571\n",
       "2     485\n",
       "3     145\n",
       "4     109\n",
       "Name: PatientRace, dtype: int64"
      ]
     },
     "metadata": {},
     "output_type": "display_data"
    },
    {
     "name": "stdout",
     "output_type": "stream",
     "text": [
      "----\n",
      "\n",
      "\n",
      "\n"
     ]
    }
   ],
   "source": [
    "categorical_vars = [\n",
    "    'StageOfCancer',\n",
    "    'PatientSex',\n",
    "    'PatientRace',\n",
    "]\n",
    "\n",
    "for df in [X.groupby(by='EP'), X]:\n",
    "    for v in categorical_vars:\n",
    "        display(df[v].value_counts())\n",
    "    print('----\\n\\n\\n')"
   ]
  }
 ],
 "metadata": {
  "kernelspec": {
   "display_name": "Python 3",
   "language": "python",
   "name": "python3"
  },
  "language_info": {
   "codemirror_mode": {
    "name": "ipython",
    "version": 3
   },
   "file_extension": ".py",
   "mimetype": "text/x-python",
   "name": "python",
   "nbconvert_exporter": "python",
   "pygments_lexer": "ipython3",
   "version": "3.9.1"
  }
 },
 "nbformat": 4,
 "nbformat_minor": 5
}
